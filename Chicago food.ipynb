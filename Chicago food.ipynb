{
 "cells": [
  {
   "cell_type": "markdown",
   "id": "75a13c98",
   "metadata": {},
   "source": [
    "# Задача классификации"
   ]
  },
  {
   "cell_type": "markdown",
   "id": "d7b89263",
   "metadata": {},
   "source": [
    "Задача заключается в классификации результата проверки заведений общественного питания. Ожидается, что алгоритм машинного обучения будет устанавливать, проходит ли проверку (может также проходить с условиями) отдельновзятое заведение при известных нарушениях, типе заведения, типе проверки и прочих признаков."
   ]
  },
  {
   "cell_type": "markdown",
   "id": "57e6d8bd",
   "metadata": {},
   "source": [
    "## Загружаем данные"
   ]
  },
  {
   "cell_type": "code",
   "execution_count": 1,
   "id": "dbd897bf",
   "metadata": {},
   "outputs": [],
   "source": [
    "import numpy as np\n",
    "import matplotlib.pyplot as plt\n",
    "%matplotlib inline\n",
    "import pandas as pd             # Таблицы и временные ряды (dataframe, series)\n",
    "import seaborn as sns           # Еще больше красивой графики для визуализации данных\n",
    "import sklearn                  # Алгоритмы машинного обучения"
   ]
  },
  {
   "cell_type": "code",
   "execution_count": 2,
   "id": "7130049a",
   "metadata": {},
   "outputs": [],
   "source": [
    "import zipfile\n",
    "\n",
    "path = \"archive.zip\"\n",
    "\n",
    "with zipfile.ZipFile(path, 'r') as zip_ref:\n",
    "    zip_ref.extractall(\"\")"
   ]
  },
  {
   "cell_type": "markdown",
   "id": "8441feea",
   "metadata": {},
   "source": [
    "Kaggle, кажется, не предоставляет прямой ссылки на файл данных. Скачиваем, распаковываем и читаем датафрейм с компьютера"
   ]
  },
  {
   "cell_type": "code",
   "execution_count": 3,
   "id": "accba47f",
   "metadata": {},
   "outputs": [],
   "source": [
    "# url = \"https://www.kaggle.com/tjkyner/chicago-food-inspections?select=Food_Inspections.csv\"\n",
    "data_raw = pd.read_csv(\"Food_Inspections.csv\")"
   ]
  },
  {
   "cell_type": "code",
   "execution_count": 4,
   "id": "dc1b21cd",
   "metadata": {},
   "outputs": [
    {
     "data": {
      "text/plain": [
       "pandas.core.frame.DataFrame"
      ]
     },
     "execution_count": 4,
     "metadata": {},
     "output_type": "execute_result"
    }
   ],
   "source": [
    "type(data_raw)"
   ]
  },
  {
   "cell_type": "markdown",
   "id": "9a0e93d6",
   "metadata": {},
   "source": [
    "This information is derived from inspections of restaurants and other food\n",
    "establishments in Chicago from January 1, 2010 to the present. Inspections are performed by\n",
    "staff from the Chicago Department of Public Health’s Food Protection Program. Inspections are\n",
    "done using a standardized procedure. The results of the inspection are inputted into a database,\n",
    "then reviewed and approved by a State of Illinois Licensed Environmental Health Practitioner\n",
    "(LEHP). A subset of data elements are extracted from this database and downloaded into this\n",
    "data portal"
   ]
  },
  {
   "cell_type": "code",
   "execution_count": 5,
   "id": "94b0ead3",
   "metadata": {},
   "outputs": [
    {
     "data": {
      "text/plain": [
       "(221468, 17)"
      ]
     },
     "execution_count": 5,
     "metadata": {},
     "output_type": "execute_result"
    }
   ],
   "source": [
    "data_raw.shape"
   ]
  },
  {
   "cell_type": "code",
   "execution_count": 6,
   "id": "afe0ca4c",
   "metadata": {},
   "outputs": [
    {
     "data": {
      "text/html": [
       "<div>\n",
       "<style scoped>\n",
       "    .dataframe tbody tr th:only-of-type {\n",
       "        vertical-align: middle;\n",
       "    }\n",
       "\n",
       "    .dataframe tbody tr th {\n",
       "        vertical-align: top;\n",
       "    }\n",
       "\n",
       "    .dataframe thead th {\n",
       "        text-align: right;\n",
       "    }\n",
       "</style>\n",
       "<table border=\"1\" class=\"dataframe\">\n",
       "  <thead>\n",
       "    <tr style=\"text-align: right;\">\n",
       "      <th></th>\n",
       "      <th>Inspection ID</th>\n",
       "      <th>DBA Name</th>\n",
       "      <th>AKA Name</th>\n",
       "      <th>License #</th>\n",
       "      <th>Facility Type</th>\n",
       "      <th>Risk</th>\n",
       "      <th>Address</th>\n",
       "      <th>City</th>\n",
       "      <th>State</th>\n",
       "      <th>Zip</th>\n",
       "      <th>Inspection Date</th>\n",
       "      <th>Inspection Type</th>\n",
       "      <th>Results</th>\n",
       "      <th>Violations</th>\n",
       "      <th>Latitude</th>\n",
       "      <th>Longitude</th>\n",
       "      <th>Location</th>\n",
       "    </tr>\n",
       "  </thead>\n",
       "  <tbody>\n",
       "    <tr>\n",
       "      <th>0</th>\n",
       "      <td>2492889</td>\n",
       "      <td>Kozminski</td>\n",
       "      <td>Kozminski</td>\n",
       "      <td>31151.0</td>\n",
       "      <td>School</td>\n",
       "      <td>Risk 1 (High)</td>\n",
       "      <td>936 E 54th St (5400S)</td>\n",
       "      <td>CHICAGO</td>\n",
       "      <td>IL</td>\n",
       "      <td>60615.0</td>\n",
       "      <td>03/15/2021</td>\n",
       "      <td>Canvass</td>\n",
       "      <td>Pass</td>\n",
       "      <td>NaN</td>\n",
       "      <td>41.798029</td>\n",
       "      <td>-87.602463</td>\n",
       "      <td>(-87.60246286753599, 41.798029497076946)</td>\n",
       "    </tr>\n",
       "    <tr>\n",
       "      <th>1</th>\n",
       "      <td>2484532</td>\n",
       "      <td>VOLARE</td>\n",
       "      <td>VOLARE</td>\n",
       "      <td>2141813.0</td>\n",
       "      <td>Restaurant</td>\n",
       "      <td>Risk 1 (High)</td>\n",
       "      <td>201 E GRAND AVE</td>\n",
       "      <td>CHICAGO</td>\n",
       "      <td>IL</td>\n",
       "      <td>60611.0</td>\n",
       "      <td>02/04/2021</td>\n",
       "      <td>Non-Inspection</td>\n",
       "      <td>No Entry</td>\n",
       "      <td>NaN</td>\n",
       "      <td>41.891652</td>\n",
       "      <td>-87.622604</td>\n",
       "      <td>(-87.62260381408842, 41.89165221441017)</td>\n",
       "    </tr>\n",
       "    <tr>\n",
       "      <th>2</th>\n",
       "      <td>2472891</td>\n",
       "      <td>MIMI'S TACOS</td>\n",
       "      <td>MIMI'S TACOS</td>\n",
       "      <td>2766681.0</td>\n",
       "      <td>Restaurant</td>\n",
       "      <td>Risk 1 (High)</td>\n",
       "      <td>570-572 W ROOSEVELT RD</td>\n",
       "      <td>CHICAGO</td>\n",
       "      <td>IL</td>\n",
       "      <td>60607.0</td>\n",
       "      <td>01/20/2021</td>\n",
       "      <td>License</td>\n",
       "      <td>Not Ready</td>\n",
       "      <td>NaN</td>\n",
       "      <td>41.867330</td>\n",
       "      <td>-87.642117</td>\n",
       "      <td>(-87.64211742912265, 41.86733048241842)</td>\n",
       "    </tr>\n",
       "    <tr>\n",
       "      <th>3</th>\n",
       "      <td>2472503</td>\n",
       "      <td>WESTERN CAFE</td>\n",
       "      <td>WESTERN CAFE</td>\n",
       "      <td>2487565.0</td>\n",
       "      <td>Restaurant</td>\n",
       "      <td>Risk 1 (High)</td>\n",
       "      <td>5710 N WESTERN AVE</td>\n",
       "      <td>CHICAGO</td>\n",
       "      <td>IL</td>\n",
       "      <td>60659.0</td>\n",
       "      <td>01/11/2021</td>\n",
       "      <td>Canvass</td>\n",
       "      <td>Out of Business</td>\n",
       "      <td>NaN</td>\n",
       "      <td>41.985362</td>\n",
       "      <td>-87.689652</td>\n",
       "      <td>(-87.68965150838075, 41.9853615288893)</td>\n",
       "    </tr>\n",
       "    <tr>\n",
       "      <th>4</th>\n",
       "      <td>2472385</td>\n",
       "      <td>HILLTOP FAMILY RESTAURANT</td>\n",
       "      <td>HILLTOP FAMILY RESTAURANT</td>\n",
       "      <td>2652370.0</td>\n",
       "      <td>Restaurant</td>\n",
       "      <td>Risk 1 (High)</td>\n",
       "      <td>2800 W FOSTER AVE</td>\n",
       "      <td>CHICAGO</td>\n",
       "      <td>IL</td>\n",
       "      <td>60625.0</td>\n",
       "      <td>01/07/2021</td>\n",
       "      <td>Non-Inspection</td>\n",
       "      <td>No Entry</td>\n",
       "      <td>NaN</td>\n",
       "      <td>41.975927</td>\n",
       "      <td>-87.699046</td>\n",
       "      <td>(-87.69904568571212, 41.97592670619184)</td>\n",
       "    </tr>\n",
       "  </tbody>\n",
       "</table>\n",
       "</div>"
      ],
      "text/plain": [
       "   Inspection ID                   DBA Name                   AKA Name  \\\n",
       "0        2492889                  Kozminski                  Kozminski   \n",
       "1        2484532                     VOLARE                     VOLARE   \n",
       "2        2472891               MIMI'S TACOS               MIMI'S TACOS   \n",
       "3        2472503               WESTERN CAFE               WESTERN CAFE   \n",
       "4        2472385  HILLTOP FAMILY RESTAURANT  HILLTOP FAMILY RESTAURANT   \n",
       "\n",
       "   License # Facility Type           Risk                  Address     City  \\\n",
       "0    31151.0        School  Risk 1 (High)   936 E 54th St (5400S)   CHICAGO   \n",
       "1  2141813.0    Restaurant  Risk 1 (High)         201 E GRAND AVE   CHICAGO   \n",
       "2  2766681.0    Restaurant  Risk 1 (High)  570-572 W ROOSEVELT RD   CHICAGO   \n",
       "3  2487565.0    Restaurant  Risk 1 (High)      5710 N WESTERN AVE   CHICAGO   \n",
       "4  2652370.0    Restaurant  Risk 1 (High)       2800 W FOSTER AVE   CHICAGO   \n",
       "\n",
       "  State      Zip Inspection Date Inspection Type          Results Violations  \\\n",
       "0    IL  60615.0      03/15/2021         Canvass             Pass        NaN   \n",
       "1    IL  60611.0      02/04/2021  Non-Inspection         No Entry        NaN   \n",
       "2    IL  60607.0      01/20/2021         License        Not Ready        NaN   \n",
       "3    IL  60659.0      01/11/2021         Canvass  Out of Business        NaN   \n",
       "4    IL  60625.0      01/07/2021  Non-Inspection         No Entry        NaN   \n",
       "\n",
       "    Latitude  Longitude                                  Location  \n",
       "0  41.798029 -87.602463  (-87.60246286753599, 41.798029497076946)  \n",
       "1  41.891652 -87.622604   (-87.62260381408842, 41.89165221441017)  \n",
       "2  41.867330 -87.642117   (-87.64211742912265, 41.86733048241842)  \n",
       "3  41.985362 -87.689652    (-87.68965150838075, 41.9853615288893)  \n",
       "4  41.975927 -87.699046   (-87.69904568571212, 41.97592670619184)  "
      ]
     },
     "execution_count": 6,
     "metadata": {},
     "output_type": "execute_result"
    }
   ],
   "source": [
    "data_raw.head(5)"
   ]
  },
  {
   "cell_type": "markdown",
   "id": "300c49e0",
   "metadata": {},
   "source": [
    "## Определим классы\n",
    "\n",
    "Рассматривать в качестве классов будем результаты проверки. Посмотрим, какие они бывают."
   ]
  },
  {
   "cell_type": "code",
   "execution_count": 7,
   "id": "f90169e5",
   "metadata": {},
   "outputs": [
    {
     "data": {
      "text/plain": [
       "array(['Pass', 'No Entry', 'Not Ready', 'Out of Business', 'Fail',\n",
       "       'Pass w/ Conditions', 'Business Not Located'], dtype=object)"
      ]
     },
     "execution_count": 7,
     "metadata": {},
     "output_type": "execute_result"
    }
   ],
   "source": [
    "data_raw['Results'].unique()"
   ]
  },
  {
   "cell_type": "markdown",
   "id": "4159d4e8",
   "metadata": {},
   "source": [
    "Однако про данные указано, что:\n",
    "> **Results**: An inspection can pass, pass with conditions or fail. Establishments receiving a\n",
    "‘pass’ were found to have no critical or serious violations (violation number 1-14 and 15-\n",
    "29, respectively). Establishments receiving a ‘pass with conditions’ were found to have\n",
    "critical or serious violations, but these were corrected during the inspection.\n",
    "Establishments receiving a ‘fail’ were found to have critical or serious violations that\n",
    "were not correctable during the inspection. An establishment receiving a ‘fail’ does not\n",
    "necessarily mean the establishment’s licensed is suspended. Establishments found to\n",
    "be out of business or not located are indicated as such.\n",
    "\n",
    "Действительно, часть возможных результатов основывается не на имеющихся в датафрейме данных. Таким образом, можно выделить 3 класса, которые можно определить по прочим признакам: *'Pass'*, *'Pass w/ Conditions'*, *'Fail'*. Строки с другими результатами удалим.\n"
   ]
  },
  {
   "cell_type": "code",
   "execution_count": 8,
   "id": "51a0d1a0",
   "metadata": {},
   "outputs": [
    {
     "data": {
      "text/plain": [
       "(192061, 17)"
      ]
     },
     "execution_count": 8,
     "metadata": {},
     "output_type": "execute_result"
    }
   ],
   "source": [
    "data = data_raw[(data_raw['Results'] == \"Pass\") | (data_raw['Results'] == \"Fail\") | (data_raw['Results'] == \"Pass w/ Conditions\")].copy()\n",
    "data.shape"
   ]
  },
  {
   "cell_type": "markdown",
   "id": "32a05c1f",
   "metadata": {},
   "source": [
    "Покажем, что классы не сбалансированы"
   ]
  },
  {
   "cell_type": "code",
   "execution_count": 9,
   "id": "e1cca84b",
   "metadata": {},
   "outputs": [
    {
     "data": {
      "text/plain": [
       "Pass                  0.601168\n",
       "Fail                  0.222237\n",
       "Pass w/ Conditions    0.176595\n",
       "Name: Results, dtype: float64"
      ]
     },
     "execution_count": 9,
     "metadata": {},
     "output_type": "execute_result"
    }
   ],
   "source": [
    "data['Results'].value_counts(normalize=True)"
   ]
  },
  {
   "cell_type": "code",
   "execution_count": 10,
   "id": "908980bd",
   "metadata": {},
   "outputs": [
    {
     "data": {
      "text/html": [
       "<div>\n",
       "<style scoped>\n",
       "    .dataframe tbody tr th:only-of-type {\n",
       "        vertical-align: middle;\n",
       "    }\n",
       "\n",
       "    .dataframe tbody tr th {\n",
       "        vertical-align: top;\n",
       "    }\n",
       "\n",
       "    .dataframe thead th {\n",
       "        text-align: right;\n",
       "    }\n",
       "</style>\n",
       "<table border=\"1\" class=\"dataframe\">\n",
       "  <thead>\n",
       "    <tr style=\"text-align: right;\">\n",
       "      <th></th>\n",
       "      <th></th>\n",
       "      <th>Risk</th>\n",
       "    </tr>\n",
       "    <tr>\n",
       "      <th>Results</th>\n",
       "      <th>Risk</th>\n",
       "      <th></th>\n",
       "    </tr>\n",
       "  </thead>\n",
       "  <tbody>\n",
       "    <tr>\n",
       "      <th rowspan=\"4\" valign=\"top\">Fail</th>\n",
       "      <th>Risk 1 (High)</th>\n",
       "      <td>0.706641</td>\n",
       "    </tr>\n",
       "    <tr>\n",
       "      <th>Risk 2 (Medium)</th>\n",
       "      <td>0.193127</td>\n",
       "    </tr>\n",
       "    <tr>\n",
       "      <th>Risk 3 (Low)</th>\n",
       "      <td>0.100115</td>\n",
       "    </tr>\n",
       "    <tr>\n",
       "      <th>All</th>\n",
       "      <td>0.000117</td>\n",
       "    </tr>\n",
       "    <tr>\n",
       "      <th rowspan=\"3\" valign=\"top\">Pass</th>\n",
       "      <th>Risk 1 (High)</th>\n",
       "      <td>0.738456</td>\n",
       "    </tr>\n",
       "    <tr>\n",
       "      <th>Risk 2 (Medium)</th>\n",
       "      <td>0.190812</td>\n",
       "    </tr>\n",
       "    <tr>\n",
       "      <th>Risk 3 (Low)</th>\n",
       "      <td>0.070733</td>\n",
       "    </tr>\n",
       "    <tr>\n",
       "      <th rowspan=\"3\" valign=\"top\">Pass w/ Conditions</th>\n",
       "      <th>Risk 1 (High)</th>\n",
       "      <td>0.760651</td>\n",
       "    </tr>\n",
       "    <tr>\n",
       "      <th>Risk 2 (Medium)</th>\n",
       "      <td>0.192204</td>\n",
       "    </tr>\n",
       "    <tr>\n",
       "      <th>Risk 3 (Low)</th>\n",
       "      <td>0.047144</td>\n",
       "    </tr>\n",
       "  </tbody>\n",
       "</table>\n",
       "</div>"
      ],
      "text/plain": [
       "                                        Risk\n",
       "Results            Risk                     \n",
       "Fail               Risk 1 (High)    0.706641\n",
       "                   Risk 2 (Medium)  0.193127\n",
       "                   Risk 3 (Low)     0.100115\n",
       "                   All              0.000117\n",
       "Pass               Risk 1 (High)    0.738456\n",
       "                   Risk 2 (Medium)  0.190812\n",
       "                   Risk 3 (Low)     0.070733\n",
       "Pass w/ Conditions Risk 1 (High)    0.760651\n",
       "                   Risk 2 (Medium)  0.192204\n",
       "                   Risk 3 (Low)     0.047144"
      ]
     },
     "execution_count": 10,
     "metadata": {},
     "output_type": "execute_result"
    }
   ],
   "source": [
    "data.groupby('Results')['Risk'].value_counts(normalize = True).to_frame()"
   ]
  },
  {
   "cell_type": "markdown",
   "id": "9a442db8",
   "metadata": {},
   "source": [
    "### Заменим строковые данные числами"
   ]
  },
  {
   "cell_type": "markdown",
   "id": "f0bbff30",
   "metadata": {},
   "source": [
    "Смотрим, какие значения принимает **Risk**"
   ]
  },
  {
   "cell_type": "code",
   "execution_count": 11,
   "id": "fad7df25",
   "metadata": {},
   "outputs": [
    {
     "data": {
      "text/plain": [
       "array(['Risk 1 (High)', 'Risk 2 (Medium)', 'Risk 3 (Low)', nan, 'All'],\n",
       "      dtype=object)"
      ]
     },
     "execution_count": 11,
     "metadata": {},
     "output_type": "execute_result"
    }
   ],
   "source": [
    "data['Risk'].unique()"
   ]
  },
  {
   "cell_type": "markdown",
   "id": "c519fb45",
   "metadata": {},
   "source": [
    "Заменим числовыми значениями"
   ]
  },
  {
   "cell_type": "code",
   "execution_count": 12,
   "id": "5dd3dfd3",
   "metadata": {},
   "outputs": [
    {
     "data": {
      "text/plain": [
       "0         1\n",
       "11        1\n",
       "12        1\n",
       "15        1\n",
       "16        1\n",
       "         ..\n",
       "221463    1\n",
       "221464    1\n",
       "221465    2\n",
       "221466    2\n",
       "221467    3\n",
       "Name: Risk, Length: 192061, dtype: object"
      ]
     },
     "execution_count": 12,
     "metadata": {},
     "output_type": "execute_result"
    }
   ],
   "source": [
    "data['Risk'] = data['Risk'].replace(to_replace ='.*(\\d).*', value = '\\g<1>', regex = True)\n",
    "#data_raw['Risk'].astype(np.int32)\n",
    "data['Risk']"
   ]
  },
  {
   "cell_type": "markdown",
   "id": "6c397408",
   "metadata": {},
   "source": [
    "И не забудем про *all*. Описание данных ничего не говорит нам о значении *all*. \n",
    "> **Risk category of facility:**  Each establishment is categorized as to\n",
    "> its risk of adversely  \n",
    ">     affecting the public’s health, with 1 being the highest and 3 the lowest. The frequency of  \n",
    ">     inspection is tied to this risk, with risk 1 establishments inspected most frequently and  \n",
    ">     risk 3 least frequently.\n",
    "\n",
    "Следовательно строки с all не берём"
   ]
  },
  {
   "cell_type": "code",
   "execution_count": 13,
   "id": "f681a00f",
   "metadata": {},
   "outputs": [
    {
     "data": {
      "text/plain": [
       "(192056, 17)"
      ]
     },
     "execution_count": 13,
     "metadata": {},
     "output_type": "execute_result"
    }
   ],
   "source": [
    "rows_to_drop = data[(data['Risk'] == \"All\")].index\n",
    "data = data.drop(rows_to_drop)\n",
    "data.shape\n",
    "# rows_to_drop"
   ]
  },
  {
   "cell_type": "code",
   "execution_count": 14,
   "id": "e89aa5e7",
   "metadata": {},
   "outputs": [],
   "source": [
    "data['Risk'] = data['Risk'].astype('float')"
   ]
  },
  {
   "cell_type": "code",
   "execution_count": 15,
   "id": "00b61ca1",
   "metadata": {},
   "outputs": [],
   "source": [
    "for str in ['Facility Type', 'Inspection Type', 'Results']:\n",
    "    data[str] = data[str].astype('category')"
   ]
  },
  {
   "cell_type": "code",
   "execution_count": 16,
   "id": "ee252a3f",
   "metadata": {},
   "outputs": [
    {
     "data": {
      "text/html": [
       "<div>\n",
       "<style scoped>\n",
       "    .dataframe tbody tr th:only-of-type {\n",
       "        vertical-align: middle;\n",
       "    }\n",
       "\n",
       "    .dataframe tbody tr th {\n",
       "        vertical-align: top;\n",
       "    }\n",
       "\n",
       "    .dataframe thead th {\n",
       "        text-align: right;\n",
       "    }\n",
       "</style>\n",
       "<table border=\"1\" class=\"dataframe\">\n",
       "  <thead>\n",
       "    <tr style=\"text-align: right;\">\n",
       "      <th></th>\n",
       "      <th>Inspection ID</th>\n",
       "      <th>License #</th>\n",
       "      <th>Risk</th>\n",
       "      <th>Zip</th>\n",
       "      <th>Latitude</th>\n",
       "      <th>Longitude</th>\n",
       "    </tr>\n",
       "  </thead>\n",
       "  <tbody>\n",
       "    <tr>\n",
       "      <th>count</th>\n",
       "      <td>1.920560e+05</td>\n",
       "      <td>1.920400e+05</td>\n",
       "      <td>192022.000000</td>\n",
       "      <td>192024.000000</td>\n",
       "      <td>191353.000000</td>\n",
       "      <td>191353.000000</td>\n",
       "    </tr>\n",
       "    <tr>\n",
       "      <th>mean</th>\n",
       "      <td>1.533368e+06</td>\n",
       "      <td>1.628621e+06</td>\n",
       "      <td>1.337769</td>\n",
       "      <td>60628.618667</td>\n",
       "      <td>41.880396</td>\n",
       "      <td>-87.676203</td>\n",
       "    </tr>\n",
       "    <tr>\n",
       "      <th>std</th>\n",
       "      <td>6.847017e+05</td>\n",
       "      <td>9.128008e+05</td>\n",
       "      <td>0.608173</td>\n",
       "      <td>123.355297</td>\n",
       "      <td>0.081130</td>\n",
       "      <td>0.059248</td>\n",
       "    </tr>\n",
       "    <tr>\n",
       "      <th>min</th>\n",
       "      <td>4.424700e+04</td>\n",
       "      <td>0.000000e+00</td>\n",
       "      <td>1.000000</td>\n",
       "      <td>10014.000000</td>\n",
       "      <td>41.644670</td>\n",
       "      <td>-87.914428</td>\n",
       "    </tr>\n",
       "    <tr>\n",
       "      <th>25%</th>\n",
       "      <td>1.166310e+06</td>\n",
       "      <td>1.228416e+06</td>\n",
       "      <td>1.000000</td>\n",
       "      <td>60614.000000</td>\n",
       "      <td>41.831075</td>\n",
       "      <td>-87.707109</td>\n",
       "    </tr>\n",
       "    <tr>\n",
       "      <th>50%</th>\n",
       "      <td>1.537356e+06</td>\n",
       "      <td>1.999098e+06</td>\n",
       "      <td>1.000000</td>\n",
       "      <td>60625.000000</td>\n",
       "      <td>41.891279</td>\n",
       "      <td>-87.665571</td>\n",
       "    </tr>\n",
       "    <tr>\n",
       "      <th>75%</th>\n",
       "      <td>2.135944e+06</td>\n",
       "      <td>2.283206e+06</td>\n",
       "      <td>2.000000</td>\n",
       "      <td>60643.000000</td>\n",
       "      <td>41.939654</td>\n",
       "      <td>-87.634531</td>\n",
       "    </tr>\n",
       "    <tr>\n",
       "      <th>max</th>\n",
       "      <td>2.521547e+06</td>\n",
       "      <td>9.999999e+06</td>\n",
       "      <td>3.000000</td>\n",
       "      <td>60827.000000</td>\n",
       "      <td>42.021064</td>\n",
       "      <td>-87.525094</td>\n",
       "    </tr>\n",
       "  </tbody>\n",
       "</table>\n",
       "</div>"
      ],
      "text/plain": [
       "       Inspection ID     License #           Risk            Zip  \\\n",
       "count   1.920560e+05  1.920400e+05  192022.000000  192024.000000   \n",
       "mean    1.533368e+06  1.628621e+06       1.337769   60628.618667   \n",
       "std     6.847017e+05  9.128008e+05       0.608173     123.355297   \n",
       "min     4.424700e+04  0.000000e+00       1.000000   10014.000000   \n",
       "25%     1.166310e+06  1.228416e+06       1.000000   60614.000000   \n",
       "50%     1.537356e+06  1.999098e+06       1.000000   60625.000000   \n",
       "75%     2.135944e+06  2.283206e+06       2.000000   60643.000000   \n",
       "max     2.521547e+06  9.999999e+06       3.000000   60827.000000   \n",
       "\n",
       "            Latitude      Longitude  \n",
       "count  191353.000000  191353.000000  \n",
       "mean       41.880396     -87.676203  \n",
       "std         0.081130       0.059248  \n",
       "min        41.644670     -87.914428  \n",
       "25%        41.831075     -87.707109  \n",
       "50%        41.891279     -87.665571  \n",
       "75%        41.939654     -87.634531  \n",
       "max        42.021064     -87.525094  "
      ]
     },
     "execution_count": 16,
     "metadata": {},
     "output_type": "execute_result"
    }
   ],
   "source": [
    "data.describe()"
   ]
  },
  {
   "cell_type": "markdown",
   "id": "69387ff9",
   "metadata": {},
   "source": [
    "## Пропущенные значения"
   ]
  },
  {
   "cell_type": "code",
   "execution_count": 17,
   "id": "581f4df2",
   "metadata": {},
   "outputs": [
    {
     "data": {
      "text/plain": [
       "Inspection ID          0\n",
       "DBA Name               0\n",
       "AKA Name            1736\n",
       "License #             16\n",
       "Facility Type        645\n",
       "Risk                  34\n",
       "Address                0\n",
       "City                 125\n",
       "State                 45\n",
       "Zip                   32\n",
       "Inspection Date        0\n",
       "Inspection Type        1\n",
       "Results                0\n",
       "Violations         30494\n",
       "Latitude             703\n",
       "Longitude            703\n",
       "Location             703\n",
       "dtype: int64"
      ]
     },
     "execution_count": 17,
     "metadata": {},
     "output_type": "execute_result"
    }
   ],
   "source": [
    "data.isna().sum()"
   ]
  },
  {
   "cell_type": "markdown",
   "id": "da37b7ca",
   "metadata": {},
   "source": [
    "Отсутствующих значений для *Facility Type* и *Inspection Type* не так много относительно общего количества строк. Кроме того, отсутствие номера лицензии не внушает доверия результату проверки. Просто удалим соответствующие строки."
   ]
  },
  {
   "cell_type": "code",
   "execution_count": 18,
   "id": "12f4b823",
   "metadata": {},
   "outputs": [
    {
     "data": {
      "text/plain": [
       "(191394, 17)"
      ]
     },
     "execution_count": 18,
     "metadata": {},
     "output_type": "execute_result"
    }
   ],
   "source": [
    "rows_to_drop = data[(data['Facility Type'].isna()) | (data['Inspection Type'].isna()) | (data['License #'].isna())].index\n",
    "data = data.drop(rows_to_drop)\n",
    "data.shape"
   ]
  },
  {
   "cell_type": "markdown",
   "id": "efbf07b4",
   "metadata": {},
   "source": [
    "Глянем *Violations*. Пустые значения должны как правило означать отсутствие нарушений и пусты не по ошибке, поэтому удалять строки мы не будем."
   ]
  },
  {
   "cell_type": "code",
   "execution_count": 19,
   "id": "53246cd3",
   "metadata": {},
   "outputs": [
    {
     "data": {
      "text/plain": [
       "'34. FLOORS: CONSTRUCTED PER CODE, CLEANED, GOOD REPAIR, COVING INSTALLED, DUST-LESS CLEANING METHODS USED - Comments: The floors shall be constructed per code, be smooth and easily cleaned, and be kept clean and in good repair.    FLOORS IN NEED OF CLEANING TO REMOVE BUILD-UP. MUST CLEAN AND MAINTAIN. | 35. WALLS, CEILINGS, ATTACHED EQUIPMENT CONSTRUCTED PER CODE: GOOD REPAIR, SURFACES CLEAN AND DUST-LESS CLEANING METHODS - Comments: The walls and ceilings shall be in good repair and easily cleaned. Use dustless cleaning methods.    WALLS AND CEILINGS IN NEED OF CLEANING TO REMOVE FOOD AND DUST. MUST CLEAN AND MAINTAIN. | 38. VENTILATION: ROOMS AND EQUIPMENT VENTED AS REQUIRED: PLUMBING: INSTALLED AND MAINTAINED - Comments: The flow of air discharged from kitchen fans shall always be through a duct to a point above the roofline. Ventilation: All plumbing fixtures, such as toilets, sinks, washbasins, etc., must be adequately trapped, vented, and re-vented and properly connected to the sewer in accordance with the plumbing chapter of the Municipal Code of Chicago and the Rules and Regulations of the Board of Health.    AIR VENTS IN NEED OF CLEANING TO REMOVE DUST BUILD-UP. MUST CLEAN AND MAINTAIN.'"
      ]
     },
     "execution_count": 19,
     "metadata": {},
     "output_type": "execute_result"
    }
   ],
   "source": [
    "data.at[221463, 'Violations']"
   ]
  },
  {
   "cell_type": "code",
   "execution_count": 20,
   "id": "6c83aa62",
   "metadata": {},
   "outputs": [
    {
     "data": {
      "text/plain": [
       "['34.', '35.', '38.']"
      ]
     },
     "execution_count": 20,
     "metadata": {},
     "output_type": "execute_result"
    }
   ],
   "source": [
    "text = data.at[221463, 'Violations']\n",
    "import re\n",
    "regex_num = re.compile('\\d+\\.')  \n",
    "regex_num.findall(text)  "
   ]
  },
  {
   "cell_type": "markdown",
   "id": "febc2530",
   "metadata": {},
   "source": [
    "Попробуем разобрать эти значения. Добавим столбцы с номерами возможных нарушений.\n",
    "\n",
    "> **Violations**: An establishment can receive one or more of 45 distinct violations (violation\n",
    "numbers 1-44 and 70). For each violation number listed for a given establishment, the\n",
    "requirement the establishment must meet in order for it to NOT receive a violation is\n",
    "noted, followed by a specific description of the findings that caused the violation to be\n",
    "issued."
   ]
  },
  {
   "cell_type": "code",
   "execution_count": 21,
   "id": "ee60eddb",
   "metadata": {},
   "outputs": [],
   "source": [
    "regex_num = re.compile('(?:(?<=^)|(?<=\\| ))\\d+\\.') \n",
    "for i, row in data.iterrows():    \n",
    "    violations = regex_num.findall(f\"{row['Violations']}\") \n",
    "    #print(violations)\n",
    "    \n",
    "    for violation in violations:\n",
    "        data.at[i, violation] = 1\n",
    "    "
   ]
  },
  {
   "cell_type": "code",
   "execution_count": 22,
   "id": "9dd5a580",
   "metadata": {},
   "outputs": [
    {
     "data": {
      "text/plain": [
       "'3. MANAGEMENT, FOOD EMPLOYEE AND CONDITIONAL EMPLOYEE; KNOWLEDGE, RESPONSIBILITIES AND REPORTING - Comments: SEE VIOLATION #60.  | 10. ADEQUATE HANDWASHING SINKS PROPERLY SUPPLIED AND ACCESSIBLE - Comments: MUST PROVIDE HAND WASHING SIGNAGE AT ALL WASHBOWL AND HAND WASHING SINKS.\\t | 16. FOOD-CONTACT SURFACES: CLEANED & SANITIZED - Comments: OBSERVED EXCESSIVE AMOUNT OF BLACK AND BROWN, SLIMY, MOLD-LIKE SUBSTANCES THROUGHOUT INTERIOR OF ICE MACHINE, AND COMING IN CONTACT WITH ICE. MUST REMOVE SUBSTANCE, DETAIL CLEAN AND SANITIZE MACHINE. PRIORITY FOUNDATION VIOLATION 7-38-005. CITATION ISSUED.  | 35. APPROVED THAWING METHODS USED - Comments: OBSERVED IMPROPER THAWING METHOD IN USE. OBSERVED FISH AND CRAB SITTING IN STANDING WATER IN 3 COMPARTMENT SINK. (CRAB @ 38.8F AND FISH @ 41F)INSTRUCTED MUST USE ONE OF THE FOLLOWING APPROVED METHOD FOR THAWING: IN REFRIGERATION, IN A MICROWAVE AS PART OF A CONTINUOUS COOKING PROCESS, OR COMPLETELY SUBMERGED UNDER RUNNING WATER WITH SUFFICIENT WATER VELOCITY TO AGITATE AND FLOAT OFF LOOSE PARTICLES IN AN OVERLFOW. MANAGER CORRECTED DURING INSPECTION. | 36. THERMOMETERS PROVIDED & ACCURATE - Comments: MUST PROVIDE A THERMOMETER IN A CONSPICUOUS SPOT INSIDE ALL REFRIGERATION. | 37. FOOD PROPERLY LABELED; ORIGINAL CONTAINER - Comments: MUST WRITE DATE OF LAST PIECE OF SHELLFISH SOLD DIRECTLY ON SHELLFISH TAGS BEFORE FILING. MUST MAINTAIN RECORDS FOR 90 DAYS. | 47. FOOD & NON-FOOD CONTACT SURFACES CLEANABLE, PROPERLY DESIGNED, CONSTRUCTED & USED - Comments: OBSERVED ICE SCOOP IMPROPERLY STORED ON TOP OF GLASSWEAR ON TOP OF ICE MACHINE, AND BOWLS USED AS SCOOPS INSIDE SEVERAL CONTAINERS OF CONDIMENTS. MUST USE SCOOPS WITH HANDLES ONLY, AND MUST STORE INSIDE FOOD WITH HANDLES FACING UP, OR IN A CLEAN, DRY CONTAINER.  | 47. FOOD & NON-FOOD CONTACT SURFACES CLEANABLE, PROPERLY DESIGNED, CONSTRUCTED & USED - Comments: OBSERVED SIDES AND BOTTOMS OF TABLES AND OUTSIDE OF SINKS TO BE HEAVILY SOILED. MUST DETAIL CLEAN AND SANITIZE ALL SURFACES IN REAR PREP AREA. MUST MAINTAIN SAME.\\t | 53. TOILET FACILITIES: PROPERLY CONSTRUCTED, SUPPLIED, & CLEANED - Comments: MUST PROVIDE COVERED RECEPTACLES INSIDE ALL RESTROOMS.  | 55. PHYSICAL FACILITIES INSTALLED, MAINTAINED & CLEAN - Comments: SEE VIOLATION # 60 | 56. ADEQUATE VENTILATION & LIGHTING; DESIGNATED AREAS USED - Comments: OBSERVED INADEQUATE LIGHTING IN COOKING AREA OF PREP. MUST PROVIDE ADEQUATE LIGHTING TO ALLOW FOR PROPER CLEANING.  | 57. ALL FOOD EMPLOYEES HAVE FOOD HANDLER TRAINING - Comments: MUST PROVIDE VALID CERTIFICATES/PROOF OF ENROLLMENT OF FOOD HANDLER TRAINING FOR ALL STAFF THAT HANDLES FOOD, INCLUDING PREP, COOKS, AND WAIT STAFF.\\t | 58. ALLERGEN TRAINING AS REQUIRED - Comments: MUST PROVIDE PROOF OF ALLERGEN TRAINING FOR ALL MANAGERS.\\t | 60. PREVIOUS CORE VIOLATION CORRECTED - Comments: OBSERVED PREVIOUS CORE VIOLATIONS NOT CORRECTED FROM REPORT # 2386929 DATED 9/8/20.  MUST CORRECT THE FOLLOWING CORE VIOLATIONS: # 3 OBSERVED NO EMPLOYEE HEALTH POLICY ON SITE. MUST PROVIDE WRITTEN EMPLOYEE HEALTH POLICY FOR ALL EMPLOYEES. PRIORITY FOUNDATION VIOLATION. 7-38-010. NO CITATION ISSUED.\\t #49 OBSERVED EXCESSIVE GREASE AND DIRT BUILD UP ON STORAGE SHELVES IN THE FRONT FOOD PREP AREA, INTERIORS OF DEEP FRYERS, BROILER, AND GRILL. MUST DETAIL CLEAN AND SANITIZE EQUIPMENT. MUST MAINTAIN SAME. #55 OBSERVED HEAVILY SOILED FLOORS UNDER COOKING EQUIPMENT IN KITCHEN, AND IN REAR PREP AREA. MUST DETAIL CLEAN AND SANITIZE. MUST MAINTAIN SAME.\\t PRIORITY FOUNDATION VIOLATION 7-42-090. CITATION ISSUED.  '"
      ]
     },
     "execution_count": 22,
     "metadata": {},
     "output_type": "execute_result"
    }
   ],
   "source": [
    "data.at[15, 'Violations']"
   ]
  },
  {
   "cell_type": "code",
   "execution_count": 23,
   "id": "7196935c",
   "metadata": {},
   "outputs": [
    {
     "data": {
      "text/plain": [
       "0         NaN\n",
       "11        NaN\n",
       "12        NaN\n",
       "15        1.0\n",
       "16        NaN\n",
       "         ... \n",
       "221463    NaN\n",
       "221464    NaN\n",
       "221465    NaN\n",
       "221466    NaN\n",
       "221467    NaN\n",
       "Name: 3., Length: 191394, dtype: float64"
      ]
     },
     "execution_count": 23,
     "metadata": {},
     "output_type": "execute_result"
    }
   ],
   "source": [
    "data['3.']"
   ]
  },
  {
   "cell_type": "code",
   "execution_count": 24,
   "id": "bcb4cadb",
   "metadata": {},
   "outputs": [
    {
     "data": {
      "text/html": [
       "<div>\n",
       "<style scoped>\n",
       "    .dataframe tbody tr th:only-of-type {\n",
       "        vertical-align: middle;\n",
       "    }\n",
       "\n",
       "    .dataframe tbody tr th {\n",
       "        vertical-align: top;\n",
       "    }\n",
       "\n",
       "    .dataframe thead th {\n",
       "        text-align: right;\n",
       "    }\n",
       "</style>\n",
       "<table border=\"1\" class=\"dataframe\">\n",
       "  <thead>\n",
       "    <tr style=\"text-align: right;\">\n",
       "      <th></th>\n",
       "      <th>Location</th>\n",
       "      <th>3.</th>\n",
       "      <th>10.</th>\n",
       "      <th>16.</th>\n",
       "      <th>35.</th>\n",
       "      <th>36.</th>\n",
       "      <th>37.</th>\n",
       "      <th>47.</th>\n",
       "      <th>53.</th>\n",
       "      <th>55.</th>\n",
       "      <th>...</th>\n",
       "      <th>24.</th>\n",
       "      <th>13.</th>\n",
       "      <th>7.</th>\n",
       "      <th>26.</th>\n",
       "      <th>42.</th>\n",
       "      <th>4.</th>\n",
       "      <th>17.</th>\n",
       "      <th>70.</th>\n",
       "      <th>27.</th>\n",
       "      <th>63.</th>\n",
       "    </tr>\n",
       "  </thead>\n",
       "  <tbody>\n",
       "    <tr>\n",
       "      <th>0</th>\n",
       "      <td>(-87.60246286753599, 41.798029497076946)</td>\n",
       "      <td>0.0</td>\n",
       "      <td>0.0</td>\n",
       "      <td>0.0</td>\n",
       "      <td>0.0</td>\n",
       "      <td>0.0</td>\n",
       "      <td>0.0</td>\n",
       "      <td>0.0</td>\n",
       "      <td>0.0</td>\n",
       "      <td>0.0</td>\n",
       "      <td>...</td>\n",
       "      <td>0.0</td>\n",
       "      <td>0.0</td>\n",
       "      <td>0.0</td>\n",
       "      <td>0.0</td>\n",
       "      <td>0.0</td>\n",
       "      <td>0.0</td>\n",
       "      <td>0.0</td>\n",
       "      <td>0.0</td>\n",
       "      <td>0.0</td>\n",
       "      <td>0.0</td>\n",
       "    </tr>\n",
       "    <tr>\n",
       "      <th>11</th>\n",
       "      <td>(-87.72392832288558, 41.81310105112748)</td>\n",
       "      <td>0.0</td>\n",
       "      <td>0.0</td>\n",
       "      <td>0.0</td>\n",
       "      <td>0.0</td>\n",
       "      <td>0.0</td>\n",
       "      <td>0.0</td>\n",
       "      <td>0.0</td>\n",
       "      <td>0.0</td>\n",
       "      <td>0.0</td>\n",
       "      <td>...</td>\n",
       "      <td>0.0</td>\n",
       "      <td>0.0</td>\n",
       "      <td>0.0</td>\n",
       "      <td>0.0</td>\n",
       "      <td>0.0</td>\n",
       "      <td>0.0</td>\n",
       "      <td>0.0</td>\n",
       "      <td>0.0</td>\n",
       "      <td>0.0</td>\n",
       "      <td>0.0</td>\n",
       "    </tr>\n",
       "    <tr>\n",
       "      <th>12</th>\n",
       "      <td>(-87.61192836248603, 41.802049821529806)</td>\n",
       "      <td>0.0</td>\n",
       "      <td>0.0</td>\n",
       "      <td>0.0</td>\n",
       "      <td>0.0</td>\n",
       "      <td>0.0</td>\n",
       "      <td>0.0</td>\n",
       "      <td>0.0</td>\n",
       "      <td>0.0</td>\n",
       "      <td>0.0</td>\n",
       "      <td>...</td>\n",
       "      <td>0.0</td>\n",
       "      <td>0.0</td>\n",
       "      <td>0.0</td>\n",
       "      <td>0.0</td>\n",
       "      <td>0.0</td>\n",
       "      <td>0.0</td>\n",
       "      <td>0.0</td>\n",
       "      <td>0.0</td>\n",
       "      <td>0.0</td>\n",
       "      <td>0.0</td>\n",
       "    </tr>\n",
       "    <tr>\n",
       "      <th>15</th>\n",
       "      <td>(-87.74586369218258, 41.91399920930635)</td>\n",
       "      <td>1.0</td>\n",
       "      <td>1.0</td>\n",
       "      <td>1.0</td>\n",
       "      <td>1.0</td>\n",
       "      <td>1.0</td>\n",
       "      <td>1.0</td>\n",
       "      <td>1.0</td>\n",
       "      <td>1.0</td>\n",
       "      <td>1.0</td>\n",
       "      <td>...</td>\n",
       "      <td>0.0</td>\n",
       "      <td>0.0</td>\n",
       "      <td>0.0</td>\n",
       "      <td>0.0</td>\n",
       "      <td>0.0</td>\n",
       "      <td>0.0</td>\n",
       "      <td>0.0</td>\n",
       "      <td>0.0</td>\n",
       "      <td>0.0</td>\n",
       "      <td>0.0</td>\n",
       "    </tr>\n",
       "    <tr>\n",
       "      <th>16</th>\n",
       "      <td>(-87.64299618172501, 41.896585191199556)</td>\n",
       "      <td>0.0</td>\n",
       "      <td>0.0</td>\n",
       "      <td>0.0</td>\n",
       "      <td>0.0</td>\n",
       "      <td>0.0</td>\n",
       "      <td>0.0</td>\n",
       "      <td>0.0</td>\n",
       "      <td>0.0</td>\n",
       "      <td>0.0</td>\n",
       "      <td>...</td>\n",
       "      <td>0.0</td>\n",
       "      <td>0.0</td>\n",
       "      <td>0.0</td>\n",
       "      <td>0.0</td>\n",
       "      <td>0.0</td>\n",
       "      <td>0.0</td>\n",
       "      <td>0.0</td>\n",
       "      <td>0.0</td>\n",
       "      <td>0.0</td>\n",
       "      <td>0.0</td>\n",
       "    </tr>\n",
       "    <tr>\n",
       "      <th>...</th>\n",
       "      <td>...</td>\n",
       "      <td>...</td>\n",
       "      <td>...</td>\n",
       "      <td>...</td>\n",
       "      <td>...</td>\n",
       "      <td>...</td>\n",
       "      <td>...</td>\n",
       "      <td>...</td>\n",
       "      <td>...</td>\n",
       "      <td>...</td>\n",
       "      <td>...</td>\n",
       "      <td>...</td>\n",
       "      <td>...</td>\n",
       "      <td>...</td>\n",
       "      <td>...</td>\n",
       "      <td>...</td>\n",
       "      <td>...</td>\n",
       "      <td>...</td>\n",
       "      <td>...</td>\n",
       "      <td>...</td>\n",
       "      <td>...</td>\n",
       "    </tr>\n",
       "    <tr>\n",
       "      <th>221463</th>\n",
       "      <td>(-87.62602037433696, 41.8974381950521)</td>\n",
       "      <td>0.0</td>\n",
       "      <td>0.0</td>\n",
       "      <td>0.0</td>\n",
       "      <td>1.0</td>\n",
       "      <td>0.0</td>\n",
       "      <td>0.0</td>\n",
       "      <td>0.0</td>\n",
       "      <td>0.0</td>\n",
       "      <td>0.0</td>\n",
       "      <td>...</td>\n",
       "      <td>0.0</td>\n",
       "      <td>0.0</td>\n",
       "      <td>0.0</td>\n",
       "      <td>0.0</td>\n",
       "      <td>0.0</td>\n",
       "      <td>0.0</td>\n",
       "      <td>0.0</td>\n",
       "      <td>0.0</td>\n",
       "      <td>0.0</td>\n",
       "      <td>0.0</td>\n",
       "    </tr>\n",
       "    <tr>\n",
       "      <th>221464</th>\n",
       "      <td>(-87.59902191495524, 41.655906736353224)</td>\n",
       "      <td>0.0</td>\n",
       "      <td>0.0</td>\n",
       "      <td>0.0</td>\n",
       "      <td>1.0</td>\n",
       "      <td>0.0</td>\n",
       "      <td>0.0</td>\n",
       "      <td>0.0</td>\n",
       "      <td>0.0</td>\n",
       "      <td>0.0</td>\n",
       "      <td>...</td>\n",
       "      <td>0.0</td>\n",
       "      <td>0.0</td>\n",
       "      <td>0.0</td>\n",
       "      <td>0.0</td>\n",
       "      <td>0.0</td>\n",
       "      <td>0.0</td>\n",
       "      <td>0.0</td>\n",
       "      <td>0.0</td>\n",
       "      <td>0.0</td>\n",
       "      <td>0.0</td>\n",
       "    </tr>\n",
       "    <tr>\n",
       "      <th>221465</th>\n",
       "      <td>(-87.62517250873418, 41.883115221384855)</td>\n",
       "      <td>0.0</td>\n",
       "      <td>0.0</td>\n",
       "      <td>0.0</td>\n",
       "      <td>0.0</td>\n",
       "      <td>0.0</td>\n",
       "      <td>0.0</td>\n",
       "      <td>0.0</td>\n",
       "      <td>0.0</td>\n",
       "      <td>0.0</td>\n",
       "      <td>...</td>\n",
       "      <td>0.0</td>\n",
       "      <td>0.0</td>\n",
       "      <td>0.0</td>\n",
       "      <td>0.0</td>\n",
       "      <td>0.0</td>\n",
       "      <td>0.0</td>\n",
       "      <td>0.0</td>\n",
       "      <td>0.0</td>\n",
       "      <td>0.0</td>\n",
       "      <td>0.0</td>\n",
       "    </tr>\n",
       "    <tr>\n",
       "      <th>221466</th>\n",
       "      <td>(-87.83684032683502, 41.9627679194481)</td>\n",
       "      <td>0.0</td>\n",
       "      <td>0.0</td>\n",
       "      <td>0.0</td>\n",
       "      <td>1.0</td>\n",
       "      <td>1.0</td>\n",
       "      <td>0.0</td>\n",
       "      <td>0.0</td>\n",
       "      <td>0.0</td>\n",
       "      <td>0.0</td>\n",
       "      <td>...</td>\n",
       "      <td>0.0</td>\n",
       "      <td>0.0</td>\n",
       "      <td>0.0</td>\n",
       "      <td>0.0</td>\n",
       "      <td>0.0</td>\n",
       "      <td>0.0</td>\n",
       "      <td>0.0</td>\n",
       "      <td>0.0</td>\n",
       "      <td>0.0</td>\n",
       "      <td>0.0</td>\n",
       "    </tr>\n",
       "    <tr>\n",
       "      <th>221467</th>\n",
       "      <td>(-87.66387725815235, 41.80850909523564)</td>\n",
       "      <td>0.0</td>\n",
       "      <td>0.0</td>\n",
       "      <td>0.0</td>\n",
       "      <td>0.0</td>\n",
       "      <td>0.0</td>\n",
       "      <td>0.0</td>\n",
       "      <td>0.0</td>\n",
       "      <td>0.0</td>\n",
       "      <td>0.0</td>\n",
       "      <td>...</td>\n",
       "      <td>0.0</td>\n",
       "      <td>0.0</td>\n",
       "      <td>0.0</td>\n",
       "      <td>0.0</td>\n",
       "      <td>0.0</td>\n",
       "      <td>0.0</td>\n",
       "      <td>0.0</td>\n",
       "      <td>0.0</td>\n",
       "      <td>0.0</td>\n",
       "      <td>0.0</td>\n",
       "    </tr>\n",
       "  </tbody>\n",
       "</table>\n",
       "<p>191394 rows × 66 columns</p>\n",
       "</div>"
      ],
      "text/plain": [
       "                                        Location   3.  10.  16.  35.  36.  \\\n",
       "0       (-87.60246286753599, 41.798029497076946)  0.0  0.0  0.0  0.0  0.0   \n",
       "11       (-87.72392832288558, 41.81310105112748)  0.0  0.0  0.0  0.0  0.0   \n",
       "12      (-87.61192836248603, 41.802049821529806)  0.0  0.0  0.0  0.0  0.0   \n",
       "15       (-87.74586369218258, 41.91399920930635)  1.0  1.0  1.0  1.0  1.0   \n",
       "16      (-87.64299618172501, 41.896585191199556)  0.0  0.0  0.0  0.0  0.0   \n",
       "...                                          ...  ...  ...  ...  ...  ...   \n",
       "221463    (-87.62602037433696, 41.8974381950521)  0.0  0.0  0.0  1.0  0.0   \n",
       "221464  (-87.59902191495524, 41.655906736353224)  0.0  0.0  0.0  1.0  0.0   \n",
       "221465  (-87.62517250873418, 41.883115221384855)  0.0  0.0  0.0  0.0  0.0   \n",
       "221466    (-87.83684032683502, 41.9627679194481)  0.0  0.0  0.0  1.0  1.0   \n",
       "221467   (-87.66387725815235, 41.80850909523564)  0.0  0.0  0.0  0.0  0.0   \n",
       "\n",
       "        37.  47.  53.  55.  ...  24.  13.   7.  26.  42.   4.  17.  70.  27.  \\\n",
       "0       0.0  0.0  0.0  0.0  ...  0.0  0.0  0.0  0.0  0.0  0.0  0.0  0.0  0.0   \n",
       "11      0.0  0.0  0.0  0.0  ...  0.0  0.0  0.0  0.0  0.0  0.0  0.0  0.0  0.0   \n",
       "12      0.0  0.0  0.0  0.0  ...  0.0  0.0  0.0  0.0  0.0  0.0  0.0  0.0  0.0   \n",
       "15      1.0  1.0  1.0  1.0  ...  0.0  0.0  0.0  0.0  0.0  0.0  0.0  0.0  0.0   \n",
       "16      0.0  0.0  0.0  0.0  ...  0.0  0.0  0.0  0.0  0.0  0.0  0.0  0.0  0.0   \n",
       "...     ...  ...  ...  ...  ...  ...  ...  ...  ...  ...  ...  ...  ...  ...   \n",
       "221463  0.0  0.0  0.0  0.0  ...  0.0  0.0  0.0  0.0  0.0  0.0  0.0  0.0  0.0   \n",
       "221464  0.0  0.0  0.0  0.0  ...  0.0  0.0  0.0  0.0  0.0  0.0  0.0  0.0  0.0   \n",
       "221465  0.0  0.0  0.0  0.0  ...  0.0  0.0  0.0  0.0  0.0  0.0  0.0  0.0  0.0   \n",
       "221466  0.0  0.0  0.0  0.0  ...  0.0  0.0  0.0  0.0  0.0  0.0  0.0  0.0  0.0   \n",
       "221467  0.0  0.0  0.0  0.0  ...  0.0  0.0  0.0  0.0  0.0  0.0  0.0  0.0  0.0   \n",
       "\n",
       "        63.  \n",
       "0       0.0  \n",
       "11      0.0  \n",
       "12      0.0  \n",
       "15      0.0  \n",
       "16      0.0  \n",
       "...     ...  \n",
       "221463  0.0  \n",
       "221464  0.0  \n",
       "221465  0.0  \n",
       "221466  0.0  \n",
       "221467  0.0  \n",
       "\n",
       "[191394 rows x 66 columns]"
      ]
     },
     "execution_count": 24,
     "metadata": {},
     "output_type": "execute_result"
    }
   ],
   "source": [
    "data.iloc[:, 17:] = data.iloc[:, 17:].fillna(0, axis = 0)\n",
    "data.iloc[:, 16:]"
   ]
  },
  {
   "cell_type": "code",
   "execution_count": 25,
   "id": "feb026d4",
   "metadata": {},
   "outputs": [
    {
     "data": {
      "text/plain": [
       "0         0.0\n",
       "11        0.0\n",
       "12        0.0\n",
       "15        1.0\n",
       "16        0.0\n",
       "         ... \n",
       "221463    0.0\n",
       "221464    0.0\n",
       "221465    0.0\n",
       "221466    0.0\n",
       "221467    0.0\n",
       "Name: 3., Length: 191394, dtype: float64"
      ]
     },
     "execution_count": 25,
     "metadata": {},
     "output_type": "execute_result"
    }
   ],
   "source": [
    "data['3.']"
   ]
  },
  {
   "cell_type": "markdown",
   "id": "354d5c72",
   "metadata": {},
   "source": [
    "Столбец *Violations* можно теперь удалить. Вместе с ним и Location. Так как координаты уже записаны в отдельных столбцах."
   ]
  },
  {
   "cell_type": "code",
   "execution_count": 26,
   "id": "407535f6",
   "metadata": {},
   "outputs": [],
   "source": [
    "data = data.drop('Violations', axis = 1)"
   ]
  },
  {
   "cell_type": "code",
   "execution_count": 27,
   "id": "3ed30a00",
   "metadata": {},
   "outputs": [],
   "source": [
    "data = data.drop('Location', axis = 1)"
   ]
  },
  {
   "cell_type": "markdown",
   "id": "230693cd",
   "metadata": {},
   "source": [
    "Пропущенные значения *AKA Name* скопируем с *DBA Name*"
   ]
  },
  {
   "cell_type": "code",
   "execution_count": 28,
   "id": "13e315a6",
   "metadata": {},
   "outputs": [],
   "source": [
    "data['AKA Name'] = data['AKA Name'].fillna(data['DBA Name'])"
   ]
  },
  {
   "cell_type": "code",
   "execution_count": 29,
   "id": "dd803852",
   "metadata": {},
   "outputs": [
    {
     "data": {
      "text/plain": [
       "Inspection ID        0\n",
       "DBA Name             0\n",
       "AKA Name             0\n",
       "License #            0\n",
       "Facility Type        0\n",
       "Risk                15\n",
       "Address              0\n",
       "City               122\n",
       "State               45\n",
       "Zip                 31\n",
       "Inspection Date      0\n",
       "Inspection Type      0\n",
       "Results              0\n",
       "Latitude           698\n",
       "Longitude          698\n",
       "dtype: int64"
      ]
     },
     "execution_count": 29,
     "metadata": {},
     "output_type": "execute_result"
    }
   ],
   "source": [
    "data.iloc[:, :15].isna().sum()"
   ]
  },
  {
   "cell_type": "markdown",
   "id": "82ff08dc",
   "metadata": {},
   "source": [
    "Убедимся, что мы не переименовали по ошибке все строки, и заодно убедимся, что есть заведения, у которых отличаются официальное и общеизвестное название."
   ]
  },
  {
   "cell_type": "code",
   "execution_count": 30,
   "id": "b53e9b31",
   "metadata": {},
   "outputs": [
    {
     "data": {
      "text/html": [
       "<div>\n",
       "<style scoped>\n",
       "    .dataframe tbody tr th:only-of-type {\n",
       "        vertical-align: middle;\n",
       "    }\n",
       "\n",
       "    .dataframe tbody tr th {\n",
       "        vertical-align: top;\n",
       "    }\n",
       "\n",
       "    .dataframe thead th {\n",
       "        text-align: right;\n",
       "    }\n",
       "</style>\n",
       "<table border=\"1\" class=\"dataframe\">\n",
       "  <thead>\n",
       "    <tr style=\"text-align: right;\">\n",
       "      <th></th>\n",
       "      <th>Inspection ID</th>\n",
       "      <th>DBA Name</th>\n",
       "      <th>AKA Name</th>\n",
       "      <th>License #</th>\n",
       "      <th>Facility Type</th>\n",
       "      <th>Risk</th>\n",
       "      <th>Address</th>\n",
       "      <th>City</th>\n",
       "      <th>State</th>\n",
       "      <th>Zip</th>\n",
       "      <th>...</th>\n",
       "      <th>24.</th>\n",
       "      <th>13.</th>\n",
       "      <th>7.</th>\n",
       "      <th>26.</th>\n",
       "      <th>42.</th>\n",
       "      <th>4.</th>\n",
       "      <th>17.</th>\n",
       "      <th>70.</th>\n",
       "      <th>27.</th>\n",
       "      <th>63.</th>\n",
       "    </tr>\n",
       "  </thead>\n",
       "  <tbody>\n",
       "    <tr>\n",
       "      <th>40</th>\n",
       "      <td>2382667</td>\n",
       "      <td>STARBUCKS COFFEE # 216</td>\n",
       "      <td>STARBUCKS COFFEE</td>\n",
       "      <td>2398564.0</td>\n",
       "      <td>Restaurant</td>\n",
       "      <td>2.0</td>\n",
       "      <td>401 E ONTARIO ST</td>\n",
       "      <td>CHICAGO</td>\n",
       "      <td>IL</td>\n",
       "      <td>60611.0</td>\n",
       "      <td>...</td>\n",
       "      <td>0.0</td>\n",
       "      <td>0.0</td>\n",
       "      <td>0.0</td>\n",
       "      <td>0.0</td>\n",
       "      <td>0.0</td>\n",
       "      <td>0.0</td>\n",
       "      <td>0.0</td>\n",
       "      <td>0.0</td>\n",
       "      <td>0.0</td>\n",
       "      <td>0.0</td>\n",
       "    </tr>\n",
       "    <tr>\n",
       "      <th>43</th>\n",
       "      <td>2382213</td>\n",
       "      <td>WINGSTOP RESTAURANT</td>\n",
       "      <td>WINGSTOP</td>\n",
       "      <td>2570340.0</td>\n",
       "      <td>Restaurant</td>\n",
       "      <td>2.0</td>\n",
       "      <td>6024-6026 N BROADWAY AVE</td>\n",
       "      <td>CHICAGO</td>\n",
       "      <td>IL</td>\n",
       "      <td>60660.0</td>\n",
       "      <td>...</td>\n",
       "      <td>0.0</td>\n",
       "      <td>0.0</td>\n",
       "      <td>0.0</td>\n",
       "      <td>0.0</td>\n",
       "      <td>0.0</td>\n",
       "      <td>0.0</td>\n",
       "      <td>0.0</td>\n",
       "      <td>0.0</td>\n",
       "      <td>0.0</td>\n",
       "      <td>0.0</td>\n",
       "    </tr>\n",
       "    <tr>\n",
       "      <th>44</th>\n",
       "      <td>2374199</td>\n",
       "      <td>CHOCOLATE CITY</td>\n",
       "      <td>DARK MATTER</td>\n",
       "      <td>2658208.0</td>\n",
       "      <td>Restaurant</td>\n",
       "      <td>2.0</td>\n",
       "      <td>2015 W GRAND AVE</td>\n",
       "      <td>CHICAGO</td>\n",
       "      <td>IL</td>\n",
       "      <td>60612.0</td>\n",
       "      <td>...</td>\n",
       "      <td>0.0</td>\n",
       "      <td>0.0</td>\n",
       "      <td>0.0</td>\n",
       "      <td>0.0</td>\n",
       "      <td>0.0</td>\n",
       "      <td>0.0</td>\n",
       "      <td>0.0</td>\n",
       "      <td>0.0</td>\n",
       "      <td>0.0</td>\n",
       "      <td>0.0</td>\n",
       "    </tr>\n",
       "    <tr>\n",
       "      <th>59</th>\n",
       "      <td>2373373</td>\n",
       "      <td>UPTON'S NATURALS CO.</td>\n",
       "      <td>UPTON'S</td>\n",
       "      <td>2277659.0</td>\n",
       "      <td>Restaurant</td>\n",
       "      <td>1.0</td>\n",
       "      <td>2054 W GRAND AVE</td>\n",
       "      <td>CHICAGO</td>\n",
       "      <td>IL</td>\n",
       "      <td>60612.0</td>\n",
       "      <td>...</td>\n",
       "      <td>0.0</td>\n",
       "      <td>0.0</td>\n",
       "      <td>0.0</td>\n",
       "      <td>0.0</td>\n",
       "      <td>0.0</td>\n",
       "      <td>0.0</td>\n",
       "      <td>0.0</td>\n",
       "      <td>0.0</td>\n",
       "      <td>0.0</td>\n",
       "      <td>0.0</td>\n",
       "    </tr>\n",
       "    <tr>\n",
       "      <th>75</th>\n",
       "      <td>2369855</td>\n",
       "      <td>Chicago Prep Master Tenant LLC</td>\n",
       "      <td>Chicago Prep Master Tenant</td>\n",
       "      <td>2723671.0</td>\n",
       "      <td>Shared Kitchen</td>\n",
       "      <td>1.0</td>\n",
       "      <td>5801 W Dickens AVE</td>\n",
       "      <td>CHICAGO</td>\n",
       "      <td>IL</td>\n",
       "      <td>60639.0</td>\n",
       "      <td>...</td>\n",
       "      <td>0.0</td>\n",
       "      <td>0.0</td>\n",
       "      <td>0.0</td>\n",
       "      <td>0.0</td>\n",
       "      <td>0.0</td>\n",
       "      <td>0.0</td>\n",
       "      <td>0.0</td>\n",
       "      <td>0.0</td>\n",
       "      <td>0.0</td>\n",
       "      <td>0.0</td>\n",
       "    </tr>\n",
       "    <tr>\n",
       "      <th>...</th>\n",
       "      <td>...</td>\n",
       "      <td>...</td>\n",
       "      <td>...</td>\n",
       "      <td>...</td>\n",
       "      <td>...</td>\n",
       "      <td>...</td>\n",
       "      <td>...</td>\n",
       "      <td>...</td>\n",
       "      <td>...</td>\n",
       "      <td>...</td>\n",
       "      <td>...</td>\n",
       "      <td>...</td>\n",
       "      <td>...</td>\n",
       "      <td>...</td>\n",
       "      <td>...</td>\n",
       "      <td>...</td>\n",
       "      <td>...</td>\n",
       "      <td>...</td>\n",
       "      <td>...</td>\n",
       "      <td>...</td>\n",
       "      <td>...</td>\n",
       "    </tr>\n",
       "    <tr>\n",
       "      <th>221458</th>\n",
       "      <td>229220</td>\n",
       "      <td>Eurest Dining Services @ Credit Suisse Chicago</td>\n",
       "      <td>Credit Suisse Cafe</td>\n",
       "      <td>1488775.0</td>\n",
       "      <td>Restaurant</td>\n",
       "      <td>1.0</td>\n",
       "      <td>227 W MONROE ST</td>\n",
       "      <td>CHICAGO</td>\n",
       "      <td>IL</td>\n",
       "      <td>60606.0</td>\n",
       "      <td>...</td>\n",
       "      <td>0.0</td>\n",
       "      <td>0.0</td>\n",
       "      <td>0.0</td>\n",
       "      <td>0.0</td>\n",
       "      <td>0.0</td>\n",
       "      <td>0.0</td>\n",
       "      <td>0.0</td>\n",
       "      <td>0.0</td>\n",
       "      <td>0.0</td>\n",
       "      <td>0.0</td>\n",
       "    </tr>\n",
       "    <tr>\n",
       "      <th>221459</th>\n",
       "      <td>60390</td>\n",
       "      <td>MARISCOS BAHIA</td>\n",
       "      <td>ELIAS TACOS, INCORPORATED</td>\n",
       "      <td>1488236.0</td>\n",
       "      <td>Restaurant</td>\n",
       "      <td>1.0</td>\n",
       "      <td>4465 S ARCHER AVE</td>\n",
       "      <td>CHICAGO</td>\n",
       "      <td>IL</td>\n",
       "      <td>60632.0</td>\n",
       "      <td>...</td>\n",
       "      <td>0.0</td>\n",
       "      <td>0.0</td>\n",
       "      <td>0.0</td>\n",
       "      <td>0.0</td>\n",
       "      <td>0.0</td>\n",
       "      <td>0.0</td>\n",
       "      <td>0.0</td>\n",
       "      <td>0.0</td>\n",
       "      <td>0.0</td>\n",
       "      <td>0.0</td>\n",
       "    </tr>\n",
       "    <tr>\n",
       "      <th>221461</th>\n",
       "      <td>158244</td>\n",
       "      <td>PARK PACKING OF CHICAGO, INC</td>\n",
       "      <td>PARK PACKING</td>\n",
       "      <td>2008956.0</td>\n",
       "      <td>Wholesale</td>\n",
       "      <td>2.0</td>\n",
       "      <td>1544 W 41ST ST</td>\n",
       "      <td>CHICAGO</td>\n",
       "      <td>IL</td>\n",
       "      <td>60609.0</td>\n",
       "      <td>...</td>\n",
       "      <td>0.0</td>\n",
       "      <td>0.0</td>\n",
       "      <td>0.0</td>\n",
       "      <td>0.0</td>\n",
       "      <td>0.0</td>\n",
       "      <td>0.0</td>\n",
       "      <td>0.0</td>\n",
       "      <td>0.0</td>\n",
       "      <td>0.0</td>\n",
       "      <td>0.0</td>\n",
       "    </tr>\n",
       "    <tr>\n",
       "      <th>221462</th>\n",
       "      <td>72270</td>\n",
       "      <td>CHOP TOUHY</td>\n",
       "      <td>MAIN PIZZA CHALAVI</td>\n",
       "      <td>2021764.0</td>\n",
       "      <td>Restaurant</td>\n",
       "      <td>1.0</td>\n",
       "      <td>2931 W TOUHY AVE</td>\n",
       "      <td>CHICAGO</td>\n",
       "      <td>IL</td>\n",
       "      <td>60645.0</td>\n",
       "      <td>...</td>\n",
       "      <td>0.0</td>\n",
       "      <td>0.0</td>\n",
       "      <td>1.0</td>\n",
       "      <td>0.0</td>\n",
       "      <td>0.0</td>\n",
       "      <td>0.0</td>\n",
       "      <td>0.0</td>\n",
       "      <td>0.0</td>\n",
       "      <td>1.0</td>\n",
       "      <td>0.0</td>\n",
       "    </tr>\n",
       "    <tr>\n",
       "      <th>221465</th>\n",
       "      <td>197212</td>\n",
       "      <td>DUNKIN DOUNUTS / BASKIN ROBINS</td>\n",
       "      <td>DUNKIN DONUTS / BASKIN ROBINS</td>\n",
       "      <td>1648477.0</td>\n",
       "      <td>Restaurant</td>\n",
       "      <td>2.0</td>\n",
       "      <td>75 E WASHINGTON ST</td>\n",
       "      <td>CHICAGO</td>\n",
       "      <td>IL</td>\n",
       "      <td>60602.0</td>\n",
       "      <td>...</td>\n",
       "      <td>0.0</td>\n",
       "      <td>0.0</td>\n",
       "      <td>0.0</td>\n",
       "      <td>0.0</td>\n",
       "      <td>0.0</td>\n",
       "      <td>0.0</td>\n",
       "      <td>0.0</td>\n",
       "      <td>0.0</td>\n",
       "      <td>0.0</td>\n",
       "      <td>0.0</td>\n",
       "    </tr>\n",
       "  </tbody>\n",
       "</table>\n",
       "<p>49704 rows × 80 columns</p>\n",
       "</div>"
      ],
      "text/plain": [
       "        Inspection ID                                        DBA Name  \\\n",
       "40            2382667                          STARBUCKS COFFEE # 216   \n",
       "43            2382213                             WINGSTOP RESTAURANT   \n",
       "44            2374199                                  CHOCOLATE CITY   \n",
       "59            2373373                            UPTON'S NATURALS CO.   \n",
       "75            2369855                  Chicago Prep Master Tenant LLC   \n",
       "...               ...                                             ...   \n",
       "221458         229220  Eurest Dining Services @ Credit Suisse Chicago   \n",
       "221459          60390                                  MARISCOS BAHIA   \n",
       "221461         158244                    PARK PACKING OF CHICAGO, INC   \n",
       "221462          72270                                      CHOP TOUHY   \n",
       "221465         197212                  DUNKIN DOUNUTS / BASKIN ROBINS   \n",
       "\n",
       "                             AKA Name  License #   Facility Type  Risk  \\\n",
       "40                   STARBUCKS COFFEE  2398564.0      Restaurant   2.0   \n",
       "43                           WINGSTOP  2570340.0      Restaurant   2.0   \n",
       "44                        DARK MATTER  2658208.0      Restaurant   2.0   \n",
       "59                            UPTON'S  2277659.0      Restaurant   1.0   \n",
       "75         Chicago Prep Master Tenant  2723671.0  Shared Kitchen   1.0   \n",
       "...                               ...        ...             ...   ...   \n",
       "221458             Credit Suisse Cafe  1488775.0      Restaurant   1.0   \n",
       "221459      ELIAS TACOS, INCORPORATED  1488236.0      Restaurant   1.0   \n",
       "221461                   PARK PACKING  2008956.0       Wholesale   2.0   \n",
       "221462             MAIN PIZZA CHALAVI  2021764.0      Restaurant   1.0   \n",
       "221465  DUNKIN DONUTS / BASKIN ROBINS  1648477.0      Restaurant   2.0   \n",
       "\n",
       "                          Address     City State      Zip  ...  24.  13.   7.  \\\n",
       "40              401 E ONTARIO ST   CHICAGO    IL  60611.0  ...  0.0  0.0  0.0   \n",
       "43      6024-6026 N BROADWAY AVE   CHICAGO    IL  60660.0  ...  0.0  0.0  0.0   \n",
       "44              2015 W GRAND AVE   CHICAGO    IL  60612.0  ...  0.0  0.0  0.0   \n",
       "59              2054 W GRAND AVE   CHICAGO    IL  60612.0  ...  0.0  0.0  0.0   \n",
       "75            5801 W Dickens AVE   CHICAGO    IL  60639.0  ...  0.0  0.0  0.0   \n",
       "...                           ...      ...   ...      ...  ...  ...  ...  ...   \n",
       "221458           227 W MONROE ST   CHICAGO    IL  60606.0  ...  0.0  0.0  0.0   \n",
       "221459         4465 S ARCHER AVE   CHICAGO    IL  60632.0  ...  0.0  0.0  0.0   \n",
       "221461            1544 W 41ST ST   CHICAGO    IL  60609.0  ...  0.0  0.0  0.0   \n",
       "221462          2931 W TOUHY AVE   CHICAGO    IL  60645.0  ...  0.0  0.0  1.0   \n",
       "221465        75 E WASHINGTON ST   CHICAGO    IL  60602.0  ...  0.0  0.0  0.0   \n",
       "\n",
       "        26.  42.   4.  17.  70.  27.  63.  \n",
       "40      0.0  0.0  0.0  0.0  0.0  0.0  0.0  \n",
       "43      0.0  0.0  0.0  0.0  0.0  0.0  0.0  \n",
       "44      0.0  0.0  0.0  0.0  0.0  0.0  0.0  \n",
       "59      0.0  0.0  0.0  0.0  0.0  0.0  0.0  \n",
       "75      0.0  0.0  0.0  0.0  0.0  0.0  0.0  \n",
       "...     ...  ...  ...  ...  ...  ...  ...  \n",
       "221458  0.0  0.0  0.0  0.0  0.0  0.0  0.0  \n",
       "221459  0.0  0.0  0.0  0.0  0.0  0.0  0.0  \n",
       "221461  0.0  0.0  0.0  0.0  0.0  0.0  0.0  \n",
       "221462  0.0  0.0  0.0  0.0  0.0  1.0  0.0  \n",
       "221465  0.0  0.0  0.0  0.0  0.0  0.0  0.0  \n",
       "\n",
       "[49704 rows x 80 columns]"
      ]
     },
     "execution_count": 30,
     "metadata": {},
     "output_type": "execute_result"
    }
   ],
   "source": [
    "data[(data['DBA Name'] != data['AKA Name'])]"
   ]
  },
  {
   "cell_type": "markdown",
   "id": "76622dd2",
   "metadata": {},
   "source": [
    "Какой-либо анализ строк  названий провести сложно, но мы можем ввести дополнительный признак соответствия *DBA Name* и *AKA Name*"
   ]
  },
  {
   "cell_type": "code",
   "execution_count": 31,
   "id": "6519ff42",
   "metadata": {},
   "outputs": [
    {
     "data": {
      "text/plain": [
       "0         1\n",
       "11        1\n",
       "12        1\n",
       "15        1\n",
       "16        1\n",
       "         ..\n",
       "221463    1\n",
       "221464    1\n",
       "221465    0\n",
       "221466    1\n",
       "221467    1\n",
       "Name: One name, Length: 191394, dtype: int32"
      ]
     },
     "execution_count": 31,
     "metadata": {},
     "output_type": "execute_result"
    }
   ],
   "source": [
    "data['One name'] =  data['DBA Name'] == data['AKA Name']\n",
    "data['One name'] = data['One name'].astype(int)\n",
    "data['One name']"
   ]
  },
  {
   "cell_type": "markdown",
   "id": "1fae8456",
   "metadata": {},
   "source": [
    "Пропущенные значения в столбцах *City, State, Zip* заполним модой:"
   ]
  },
  {
   "cell_type": "code",
   "execution_count": 32,
   "id": "46eb49c0",
   "metadata": {},
   "outputs": [],
   "source": [
    "data['City'].fillna(data['City'].mode().iloc[0], inplace=True)\n",
    "data['State'].fillna(data['State'].mode().iloc[0], inplace=True)\n",
    "data['Zip'].fillna(data['Zip'].mode().iloc[0], inplace=True)"
   ]
  },
  {
   "cell_type": "markdown",
   "id": "2c7b9e40",
   "metadata": {},
   "source": [
    "Пропущенные значения *Risk, Latitude, Longitude* заменим медианой.           "
   ]
  },
  {
   "cell_type": "code",
   "execution_count": 33,
   "id": "1440a0d3",
   "metadata": {},
   "outputs": [],
   "source": [
    "for col in ['Risk', 'Latitude', 'Longitude']:\n",
    "    data[col].fillna(data[col].median(axis = 0), inplace=True)"
   ]
  },
  {
   "cell_type": "code",
   "execution_count": 34,
   "id": "fee28690",
   "metadata": {},
   "outputs": [
    {
     "data": {
      "text/plain": [
       "Inspection ID      0\n",
       "DBA Name           0\n",
       "AKA Name           0\n",
       "License #          0\n",
       "Facility Type      0\n",
       "Risk               0\n",
       "Address            0\n",
       "City               0\n",
       "State              0\n",
       "Zip                0\n",
       "Inspection Date    0\n",
       "Inspection Type    0\n",
       "Results            0\n",
       "Latitude           0\n",
       "Longitude          0\n",
       "dtype: int64"
      ]
     },
     "execution_count": 34,
     "metadata": {},
     "output_type": "execute_result"
    }
   ],
   "source": [
    "data.iloc[:, :15].isna().sum()"
   ]
  },
  {
   "cell_type": "code",
   "execution_count": 35,
   "id": "64302046",
   "metadata": {
    "scrolled": true
   },
   "outputs": [
    {
     "name": "stdout",
     "output_type": "stream",
     "text": [
      "<class 'pandas.core.frame.DataFrame'>\n",
      "Int64Index: 191394 entries, 0 to 221467\n",
      "Data columns (total 81 columns):\n",
      " #   Column           Non-Null Count   Dtype   \n",
      "---  ------           --------------   -----   \n",
      " 0   Inspection ID    191394 non-null  int64   \n",
      " 1   DBA Name         191394 non-null  object  \n",
      " 2   AKA Name         191394 non-null  object  \n",
      " 3   License #        191394 non-null  float64 \n",
      " 4   Facility Type    191394 non-null  category\n",
      " 5   Risk             191394 non-null  float64 \n",
      " 6   Address          191394 non-null  object  \n",
      " 7   City             191394 non-null  object  \n",
      " 8   State            191394 non-null  object  \n",
      " 9   Zip              191394 non-null  float64 \n",
      " 10  Inspection Date  191394 non-null  object  \n",
      " 11  Inspection Type  191394 non-null  category\n",
      " 12  Results          191394 non-null  category\n",
      " 13  Latitude         191394 non-null  float64 \n",
      " 14  Longitude        191394 non-null  float64 \n",
      " 15  3.               191394 non-null  float64 \n",
      " 16  10.              191394 non-null  float64 \n",
      " 17  16.              191394 non-null  float64 \n",
      " 18  35.              191394 non-null  float64 \n",
      " 19  36.              191394 non-null  float64 \n",
      " 20  37.              191394 non-null  float64 \n",
      " 21  47.              191394 non-null  float64 \n",
      " 22  53.              191394 non-null  float64 \n",
      " 23  55.              191394 non-null  float64 \n",
      " 24  56.              191394 non-null  float64 \n",
      " 25  57.              191394 non-null  float64 \n",
      " 26  58.              191394 non-null  float64 \n",
      " 27  60.              191394 non-null  float64 \n",
      " 28  2.               191394 non-null  float64 \n",
      " 29  5.               191394 non-null  float64 \n",
      " 30  38.              191394 non-null  float64 \n",
      " 31  48.              191394 non-null  float64 \n",
      " 32  51.              191394 non-null  float64 \n",
      " 33  52.              191394 non-null  float64 \n",
      " 34  49.              191394 non-null  float64 \n",
      " 35  50.              191394 non-null  float64 \n",
      " 36  15.              191394 non-null  float64 \n",
      " 37  21.              191394 non-null  float64 \n",
      " 38  22.              191394 non-null  float64 \n",
      " 39  23.              191394 non-null  float64 \n",
      " 40  39.              191394 non-null  float64 \n",
      " 41  64.              191394 non-null  float64 \n",
      " 42  62.              191394 non-null  float64 \n",
      " 43  33.              191394 non-null  float64 \n",
      " 44  40.              191394 non-null  float64 \n",
      " 45  41.              191394 non-null  float64 \n",
      " 46  45.              191394 non-null  float64 \n",
      " 47  1.               191394 non-null  float64 \n",
      " 48  8.               191394 non-null  float64 \n",
      " 49  25.              191394 non-null  float64 \n",
      " 50  43.              191394 non-null  float64 \n",
      " 51  54.              191394 non-null  float64 \n",
      " 52  44.              191394 non-null  float64 \n",
      " 53  61.              191394 non-null  float64 \n",
      " 54  14.              191394 non-null  float64 \n",
      " 55  9.               191394 non-null  float64 \n",
      " 56  29.              191394 non-null  float64 \n",
      " 57  32.              191394 non-null  float64 \n",
      " 58  20.              191394 non-null  float64 \n",
      " 59  34.              191394 non-null  float64 \n",
      " 60  6.               191394 non-null  float64 \n",
      " 61  46.              191394 non-null  float64 \n",
      " 62  59.              191394 non-null  float64 \n",
      " 63  28.              191394 non-null  float64 \n",
      " 64  11.              191394 non-null  float64 \n",
      " 65  12.              191394 non-null  float64 \n",
      " 66  18.              191394 non-null  float64 \n",
      " 67  30.              191394 non-null  float64 \n",
      " 68  31.              191394 non-null  float64 \n",
      " 69  19.              191394 non-null  float64 \n",
      " 70  24.              191394 non-null  float64 \n",
      " 71  13.              191394 non-null  float64 \n",
      " 72  7.               191394 non-null  float64 \n",
      " 73  26.              191394 non-null  float64 \n",
      " 74  42.              191394 non-null  float64 \n",
      " 75  4.               191394 non-null  float64 \n",
      " 76  17.              191394 non-null  float64 \n",
      " 77  70.              191394 non-null  float64 \n",
      " 78  27.              191394 non-null  float64 \n",
      " 79  63.              191394 non-null  float64 \n",
      " 80  One name         191394 non-null  int32   \n",
      "dtypes: category(3), float64(70), int32(1), int64(1), object(6)\n",
      "memory usage: 119.4+ MB\n"
     ]
    }
   ],
   "source": [
    "data.info()"
   ]
  },
  {
   "cell_type": "markdown",
   "id": "d8165292",
   "metadata": {},
   "source": [
    "Сократим количество ошибочных категорий"
   ]
  },
  {
   "cell_type": "code",
   "execution_count": 36,
   "id": "d77199a6",
   "metadata": {},
   "outputs": [
    {
     "data": {
      "text/html": [
       "<div>\n",
       "<style scoped>\n",
       "    .dataframe tbody tr th:only-of-type {\n",
       "        vertical-align: middle;\n",
       "    }\n",
       "\n",
       "    .dataframe tbody tr th {\n",
       "        vertical-align: top;\n",
       "    }\n",
       "\n",
       "    .dataframe thead th {\n",
       "        text-align: right;\n",
       "    }\n",
       "</style>\n",
       "<table border=\"1\" class=\"dataframe\">\n",
       "  <thead>\n",
       "    <tr style=\"text-align: right;\">\n",
       "      <th></th>\n",
       "      <th>Facility Type</th>\n",
       "      <th>Inspection Type</th>\n",
       "      <th>Results</th>\n",
       "    </tr>\n",
       "  </thead>\n",
       "  <tbody>\n",
       "    <tr>\n",
       "      <th>count</th>\n",
       "      <td>191394</td>\n",
       "      <td>191394</td>\n",
       "      <td>191394</td>\n",
       "    </tr>\n",
       "    <tr>\n",
       "      <th>unique</th>\n",
       "      <td>487</td>\n",
       "      <td>104</td>\n",
       "      <td>3</td>\n",
       "    </tr>\n",
       "    <tr>\n",
       "      <th>top</th>\n",
       "      <td>Restaurant</td>\n",
       "      <td>Canvass</td>\n",
       "      <td>Pass</td>\n",
       "    </tr>\n",
       "    <tr>\n",
       "      <th>freq</th>\n",
       "      <td>129306</td>\n",
       "      <td>93076</td>\n",
       "      <td>115205</td>\n",
       "    </tr>\n",
       "  </tbody>\n",
       "</table>\n",
       "</div>"
      ],
      "text/plain": [
       "       Facility Type Inspection Type Results\n",
       "count         191394          191394  191394\n",
       "unique           487             104       3\n",
       "top       Restaurant         Canvass    Pass\n",
       "freq          129306           93076  115205"
      ]
     },
     "execution_count": 36,
     "metadata": {},
     "output_type": "execute_result"
    }
   ],
   "source": [
    "data.describe(include=['category'])"
   ]
  },
  {
   "cell_type": "code",
   "execution_count": 37,
   "id": "6a515049",
   "metadata": {},
   "outputs": [
    {
     "data": {
      "text/plain": [
       "['School', 'Restaurant', 'Children's Services Facility', 'Grocery Store', 'Shared Kitchen', ..., 'Candy', 'TAVERN/LIQUOR', 'incubator', 'WHOLESALE BAKERY', 'Kids Cafe'']\n",
       "Length: 487\n",
       "Categories (487, object): ['School', 'Restaurant', 'Children's Services Facility', 'Grocery Store', ..., 'TAVERN/LIQUOR', 'incubator', 'WHOLESALE BAKERY', 'Kids Cafe'']"
      ]
     },
     "execution_count": 37,
     "metadata": {},
     "output_type": "execute_result"
    }
   ],
   "source": [
    "data['Facility Type'].unique()"
   ]
  },
  {
   "cell_type": "code",
   "execution_count": 38,
   "id": "ec0f5f16",
   "metadata": {},
   "outputs": [],
   "source": [
    "data['Facility Type'] = data['Facility Type'].str.lower().astype('category')\n",
    "data['Inspection Type'] = data['Inspection Type'].str.lower().astype('category')"
   ]
  },
  {
   "cell_type": "code",
   "execution_count": 39,
   "id": "bf6c4623",
   "metadata": {},
   "outputs": [
    {
     "data": {
      "text/html": [
       "<div>\n",
       "<style scoped>\n",
       "    .dataframe tbody tr th:only-of-type {\n",
       "        vertical-align: middle;\n",
       "    }\n",
       "\n",
       "    .dataframe tbody tr th {\n",
       "        vertical-align: top;\n",
       "    }\n",
       "\n",
       "    .dataframe thead th {\n",
       "        text-align: right;\n",
       "    }\n",
       "</style>\n",
       "<table border=\"1\" class=\"dataframe\">\n",
       "  <thead>\n",
       "    <tr style=\"text-align: right;\">\n",
       "      <th></th>\n",
       "      <th>Facility Type</th>\n",
       "      <th>Inspection Type</th>\n",
       "      <th>Results</th>\n",
       "    </tr>\n",
       "  </thead>\n",
       "  <tbody>\n",
       "    <tr>\n",
       "      <th>count</th>\n",
       "      <td>191394</td>\n",
       "      <td>191394</td>\n",
       "      <td>191394</td>\n",
       "    </tr>\n",
       "    <tr>\n",
       "      <th>unique</th>\n",
       "      <td>437</td>\n",
       "      <td>93</td>\n",
       "      <td>3</td>\n",
       "    </tr>\n",
       "    <tr>\n",
       "      <th>top</th>\n",
       "      <td>restaurant</td>\n",
       "      <td>canvass</td>\n",
       "      <td>Pass</td>\n",
       "    </tr>\n",
       "    <tr>\n",
       "      <th>freq</th>\n",
       "      <td>129306</td>\n",
       "      <td>93076</td>\n",
       "      <td>115205</td>\n",
       "    </tr>\n",
       "  </tbody>\n",
       "</table>\n",
       "</div>"
      ],
      "text/plain": [
       "       Facility Type Inspection Type Results\n",
       "count         191394          191394  191394\n",
       "unique           437              93       3\n",
       "top       restaurant         canvass    Pass\n",
       "freq          129306           93076  115205"
      ]
     },
     "execution_count": 39,
     "metadata": {},
     "output_type": "execute_result"
    }
   ],
   "source": [
    "data.describe(include=['category'])"
   ]
  },
  {
   "cell_type": "markdown",
   "id": "bbf3bf98",
   "metadata": {},
   "source": [
    "Категорий всё ещё много. Многие из них возникли из-за опечаток. Оставим только те, к которым принадлежит не менее двадцати строк."
   ]
  },
  {
   "cell_type": "code",
   "execution_count": 40,
   "id": "42f8fac2",
   "metadata": {},
   "outputs": [],
   "source": [
    "facility_counts = data['Facility Type'].value_counts()\n",
    "inspection_counts = data['Inspection Type'].value_counts()\n",
    "rows_to_drop = data[data['Facility Type'].isin(facility_counts[facility_counts < 20].index)].index\n",
    "data = data.drop(rows_to_drop)\n",
    "rows_to_drop = data[data['Inspection Type'].isin(inspection_counts[inspection_counts < 5].index)].index\n",
    "data = data.drop(rows_to_drop)"
   ]
  },
  {
   "cell_type": "code",
   "execution_count": 41,
   "id": "7d1266c4",
   "metadata": {},
   "outputs": [
    {
     "data": {
      "text/html": [
       "<div>\n",
       "<style scoped>\n",
       "    .dataframe tbody tr th:only-of-type {\n",
       "        vertical-align: middle;\n",
       "    }\n",
       "\n",
       "    .dataframe tbody tr th {\n",
       "        vertical-align: top;\n",
       "    }\n",
       "\n",
       "    .dataframe thead th {\n",
       "        text-align: right;\n",
       "    }\n",
       "</style>\n",
       "<table border=\"1\" class=\"dataframe\">\n",
       "  <thead>\n",
       "    <tr style=\"text-align: right;\">\n",
       "      <th></th>\n",
       "      <th>Facility Type</th>\n",
       "      <th>Inspection Type</th>\n",
       "      <th>Results</th>\n",
       "    </tr>\n",
       "  </thead>\n",
       "  <tbody>\n",
       "    <tr>\n",
       "      <th>count</th>\n",
       "      <td>189615</td>\n",
       "      <td>189615</td>\n",
       "      <td>189615</td>\n",
       "    </tr>\n",
       "    <tr>\n",
       "      <th>unique</th>\n",
       "      <td>67</td>\n",
       "      <td>26</td>\n",
       "      <td>3</td>\n",
       "    </tr>\n",
       "    <tr>\n",
       "      <th>top</th>\n",
       "      <td>restaurant</td>\n",
       "      <td>canvass</td>\n",
       "      <td>Pass</td>\n",
       "    </tr>\n",
       "    <tr>\n",
       "      <th>freq</th>\n",
       "      <td>129269</td>\n",
       "      <td>92374</td>\n",
       "      <td>114170</td>\n",
       "    </tr>\n",
       "  </tbody>\n",
       "</table>\n",
       "</div>"
      ],
      "text/plain": [
       "       Facility Type Inspection Type Results\n",
       "count         189615          189615  189615\n",
       "unique            67              26       3\n",
       "top       restaurant         canvass    Pass\n",
       "freq          129269           92374  114170"
      ]
     },
     "execution_count": 41,
     "metadata": {},
     "output_type": "execute_result"
    }
   ],
   "source": [
    "data.describe(include=['category'])"
   ]
  },
  {
   "cell_type": "markdown",
   "id": "d9aca7b8",
   "metadata": {},
   "source": [
    "## Визуализация"
   ]
  },
  {
   "cell_type": "code",
   "execution_count": 42,
   "id": "96e52020",
   "metadata": {
    "scrolled": false
   },
   "outputs": [
    {
     "data": {
      "image/png": "[encoded data removed]",
      "text/plain": [
       "<Figure size 720x576 with 1 Axes>"
      ]
     },
     "metadata": {
      "needs_background": "light"
     },
     "output_type": "display_data"
    }
   ],
   "source": [
    "plt.figure(figsize = (10, 8))\n",
    "plt.scatter(data['Longitude'], data['Latitude'], alpha=0.01, s = 5)\n",
    "plt.xlim([-88.1, -87.3])\n",
    "pass"
   ]
  },
  {
   "cell_type": "markdown",
   "id": "9180093c",
   "metadata": {},
   "source": [
    "Местоположение объектов проверки соответствует действительности. Все они находятся в Чикаго."
   ]
  },
  {
   "cell_type": "markdown",
   "id": "c279ce33",
   "metadata": {},
   "source": [
    "![изображение Чикаго на карте](chicago.png \"Чикаго на карте\")"
   ]
  },
  {
   "cell_type": "code",
   "execution_count": 43,
   "id": "7bf07a84",
   "metadata": {},
   "outputs": [
    {
     "data": {
      "image/png": "[encoded data removed]",
      "text/plain": [
       "<Figure size 720x576 with 1 Axes>"
      ]
     },
     "metadata": {
      "needs_background": "light"
     },
     "output_type": "display_data"
    }
   ],
   "source": [
    "plt.figure(figsize = (10, 8))\n",
    "\n",
    "sns.countplot(y='Inspection Type', order=data['Inspection Type'].unique()[0:11], hue='Results', hue_order=['Pass', 'Pass w/ Conditions', 'Fail'], data=data)\n",
    "pass"
   ]
  },
  {
   "cell_type": "markdown",
   "id": "a5ee7646",
   "metadata": {},
   "source": [
    "При повторном опросе доля *Pass* больше. Тип проверки *license* имеет самое большое соотношение результатов *Fail* к *Pass*."
   ]
  },
  {
   "cell_type": "code",
   "execution_count": 44,
   "id": "a04286c7",
   "metadata": {
    "scrolled": false
   },
   "outputs": [
    {
     "data": {
      "image/png": "[encoded data removed]",
      "text/plain": [
       "<Figure size 720x576 with 1 Axes>"
      ]
     },
     "metadata": {
      "needs_background": "light"
     },
     "output_type": "display_data"
    }
   ],
   "source": [
    "plt.figure(figsize = (10, 8))\n",
    "\n",
    "sns.countplot(y='Facility Type', order=data['Facility Type'].value_counts().index[0:10], hue='Results', hue_order=['Pass', 'Pass w/ Conditions', 'Fail'], data=data)\n",
    "pass"
   ]
  },
  {
   "cell_type": "markdown",
   "id": "033fed8c",
   "metadata": {},
   "source": [
    "Все заведения чаще не проходят проверку, чем проходят с условием."
   ]
  },
  {
   "cell_type": "code",
   "execution_count": 45,
   "id": "c60458d7",
   "metadata": {},
   "outputs": [
    {
     "data": {
      "image/png": "[encoded data removed]",
      "text/plain": [
       "<Figure size 432x288 with 1 Axes>"
      ]
     },
     "metadata": {
      "needs_background": "light"
     },
     "output_type": "display_data"
    }
   ],
   "source": [
    "sns.countplot(x='Risk', data=data)\n",
    "pass"
   ]
  },
  {
   "cell_type": "code",
   "execution_count": 46,
   "id": "b1975ad4",
   "metadata": {},
   "outputs": [
    {
     "data": {
      "image/png": "[encoded data removed]",
      "text/plain": [
       "<Figure size 432x288 with 1 Axes>"
      ]
     },
     "metadata": {
      "needs_background": "light"
     },
     "output_type": "display_data"
    }
   ],
   "source": [
    "sns.countplot(x='Results', data=data)\n",
    "pass"
   ]
  },
  {
   "cell_type": "code",
   "execution_count": 47,
   "id": "458de97d",
   "metadata": {},
   "outputs": [
    {
     "data": {
      "text/html": [
       "<div>\n",
       "<style scoped>\n",
       "    .dataframe tbody tr th:only-of-type {\n",
       "        vertical-align: middle;\n",
       "    }\n",
       "\n",
       "    .dataframe tbody tr th {\n",
       "        vertical-align: top;\n",
       "    }\n",
       "\n",
       "    .dataframe thead th {\n",
       "        text-align: right;\n",
       "    }\n",
       "</style>\n",
       "<table border=\"1\" class=\"dataframe\">\n",
       "  <thead>\n",
       "    <tr style=\"text-align: right;\">\n",
       "      <th></th>\n",
       "      <th></th>\n",
       "      <th>Risk</th>\n",
       "    </tr>\n",
       "    <tr>\n",
       "      <th>Results</th>\n",
       "      <th>Risk</th>\n",
       "      <th></th>\n",
       "    </tr>\n",
       "  </thead>\n",
       "  <tbody>\n",
       "    <tr>\n",
       "      <th rowspan=\"3\" valign=\"top\">Fail</th>\n",
       "      <th>1.0</th>\n",
       "      <td>0.712439</td>\n",
       "    </tr>\n",
       "    <tr>\n",
       "      <th>2.0</th>\n",
       "      <td>0.191827</td>\n",
       "    </tr>\n",
       "    <tr>\n",
       "      <th>3.0</th>\n",
       "      <td>0.095734</td>\n",
       "    </tr>\n",
       "    <tr>\n",
       "      <th rowspan=\"3\" valign=\"top\">Pass</th>\n",
       "      <th>1.0</th>\n",
       "      <td>0.741281</td>\n",
       "    </tr>\n",
       "    <tr>\n",
       "      <th>2.0</th>\n",
       "      <td>0.190111</td>\n",
       "    </tr>\n",
       "    <tr>\n",
       "      <th>3.0</th>\n",
       "      <td>0.068608</td>\n",
       "    </tr>\n",
       "    <tr>\n",
       "      <th rowspan=\"3\" valign=\"top\">Pass w/ Conditions</th>\n",
       "      <th>1.0</th>\n",
       "      <td>0.763631</td>\n",
       "    </tr>\n",
       "    <tr>\n",
       "      <th>2.0</th>\n",
       "      <td>0.191042</td>\n",
       "    </tr>\n",
       "    <tr>\n",
       "      <th>3.0</th>\n",
       "      <td>0.045327</td>\n",
       "    </tr>\n",
       "  </tbody>\n",
       "</table>\n",
       "</div>"
      ],
      "text/plain": [
       "                             Risk\n",
       "Results            Risk          \n",
       "Fail               1.0   0.712439\n",
       "                   2.0   0.191827\n",
       "                   3.0   0.095734\n",
       "Pass               1.0   0.741281\n",
       "                   2.0   0.190111\n",
       "                   3.0   0.068608\n",
       "Pass w/ Conditions 1.0   0.763631\n",
       "                   2.0   0.191042\n",
       "                   3.0   0.045327"
      ]
     },
     "execution_count": 47,
     "metadata": {},
     "output_type": "execute_result"
    }
   ],
   "source": [
    "data.groupby('Results')['Risk'].value_counts(normalize = True).to_frame()"
   ]
  },
  {
   "cell_type": "code",
   "execution_count": 48,
   "id": "2a59c6f7",
   "metadata": {},
   "outputs": [
    {
     "data": {
      "image/png": "[encoded data removed]",
      "text/plain": [
       "<Figure size 720x576 with 1 Axes>"
      ]
     },
     "metadata": {
      "needs_background": "light"
     },
     "output_type": "display_data"
    }
   ],
   "source": [
    "plt.figure(figsize = (10, 8))\n",
    "\n",
    "sns.countplot(y='Risk', order=data['Risk'].value_counts().index, hue='Results', hue_order=['Pass', 'Pass w/ Conditions', 'Fail'], data=data)\n",
    "pass"
   ]
  },
  {
   "cell_type": "markdown",
   "id": "a967361d",
   "metadata": {},
   "source": [
    "Относительно каждого результата риски распределяются примерно схожим образом. *Pass w/ Conditions* с минимальным уровнем риска встречается заметно реже других результатов."
   ]
  },
  {
   "cell_type": "code",
   "execution_count": 49,
   "id": "b7fd624d",
   "metadata": {},
   "outputs": [
    {
     "data": {
      "text/plain": [
       "<AxesSubplot:ylabel='Results-Risk'>"
      ]
     },
     "execution_count": 49,
     "metadata": {},
     "output_type": "execute_result"
    },
    {
     "data": {
      "image/png": "[encoded data removed]",
      "text/plain": [
       "<Figure size 432x288 with 2 Axes>"
      ]
     },
     "metadata": {
      "needs_background": "light"
     },
     "output_type": "display_data"
    }
   ],
   "source": [
    "rr_mat = data.loc[:, ['Results', 'Risk']].value_counts(normalize = True).to_frame()\n",
    "sns.heatmap(rr_mat, square=True, cmap='coolwarm')"
   ]
  },
  {
   "cell_type": "markdown",
   "id": "e540be9b",
   "metadata": {},
   "source": [
    "Самая популярная пара значений – **Pass, Risk 1 (High)**"
   ]
  },
  {
   "cell_type": "code",
   "execution_count": 50,
   "id": "d15f2364",
   "metadata": {},
   "outputs": [
    {
     "data": {
      "text/html": [
       "<div>\n",
       "<style scoped>\n",
       "    .dataframe tbody tr th:only-of-type {\n",
       "        vertical-align: middle;\n",
       "    }\n",
       "\n",
       "    .dataframe tbody tr th {\n",
       "        vertical-align: top;\n",
       "    }\n",
       "\n",
       "    .dataframe thead th {\n",
       "        text-align: right;\n",
       "    }\n",
       "</style>\n",
       "<table border=\"1\" class=\"dataframe\">\n",
       "  <thead>\n",
       "    <tr style=\"text-align: right;\">\n",
       "      <th></th>\n",
       "      <th></th>\n",
       "      <th>0</th>\n",
       "    </tr>\n",
       "    <tr>\n",
       "      <th>Results</th>\n",
       "      <th>Risk</th>\n",
       "      <th></th>\n",
       "    </tr>\n",
       "  </thead>\n",
       "  <tbody>\n",
       "    <tr>\n",
       "      <th>Pass</th>\n",
       "      <th>1.0</th>\n",
       "      <td>0.446336</td>\n",
       "    </tr>\n",
       "    <tr>\n",
       "      <th>Fail</th>\n",
       "      <th>1.0</th>\n",
       "      <td>0.157224</td>\n",
       "    </tr>\n",
       "    <tr>\n",
       "      <th>Pass w/ Conditions</th>\n",
       "      <th>1.0</th>\n",
       "      <td>0.135316</td>\n",
       "    </tr>\n",
       "    <tr>\n",
       "      <th>Pass</th>\n",
       "      <th>2.0</th>\n",
       "      <td>0.114469</td>\n",
       "    </tr>\n",
       "    <tr>\n",
       "      <th>Fail</th>\n",
       "      <th>2.0</th>\n",
       "      <td>0.042333</td>\n",
       "    </tr>\n",
       "    <tr>\n",
       "      <th>Pass</th>\n",
       "      <th>3.0</th>\n",
       "      <td>0.041310</td>\n",
       "    </tr>\n",
       "    <tr>\n",
       "      <th>Pass w/ Conditions</th>\n",
       "      <th>2.0</th>\n",
       "      <td>0.033853</td>\n",
       "    </tr>\n",
       "    <tr>\n",
       "      <th>Fail</th>\n",
       "      <th>3.0</th>\n",
       "      <td>0.021127</td>\n",
       "    </tr>\n",
       "    <tr>\n",
       "      <th>Pass w/ Conditions</th>\n",
       "      <th>3.0</th>\n",
       "      <td>0.008032</td>\n",
       "    </tr>\n",
       "  </tbody>\n",
       "</table>\n",
       "</div>"
      ],
      "text/plain": [
       "                                0\n",
       "Results            Risk          \n",
       "Pass               1.0   0.446336\n",
       "Fail               1.0   0.157224\n",
       "Pass w/ Conditions 1.0   0.135316\n",
       "Pass               2.0   0.114469\n",
       "Fail               2.0   0.042333\n",
       "Pass               3.0   0.041310\n",
       "Pass w/ Conditions 2.0   0.033853\n",
       "Fail               3.0   0.021127\n",
       "Pass w/ Conditions 3.0   0.008032"
      ]
     },
     "execution_count": 50,
     "metadata": {},
     "output_type": "execute_result"
    }
   ],
   "source": [
    "rr_mat"
   ]
  },
  {
   "cell_type": "code",
   "execution_count": 51,
   "id": "725b6251",
   "metadata": {},
   "outputs": [
    {
     "data": {
      "image/png": "[encoded data removed]",
      "text/plain": [
       "<Figure size 432x288 with 1 Axes>"
      ]
     },
     "metadata": {
      "needs_background": "light"
     },
     "output_type": "display_data"
    }
   ],
   "source": [
    "sns.countplot(x='Risk', order=data['Risk'].value_counts().index, hue='Results', data=data)\n",
    "pass"
   ]
  },
  {
   "cell_type": "code",
   "execution_count": 52,
   "id": "c601dff3",
   "metadata": {},
   "outputs": [
    {
     "data": {
      "text/html": [
       "<div>\n",
       "<style scoped>\n",
       "    .dataframe tbody tr th:only-of-type {\n",
       "        vertical-align: middle;\n",
       "    }\n",
       "\n",
       "    .dataframe tbody tr th {\n",
       "        vertical-align: top;\n",
       "    }\n",
       "\n",
       "    .dataframe thead th {\n",
       "        text-align: right;\n",
       "    }\n",
       "</style>\n",
       "<table border=\"1\" class=\"dataframe\">\n",
       "  <thead>\n",
       "    <tr style=\"text-align: right;\">\n",
       "      <th></th>\n",
       "      <th>Inspection ID</th>\n",
       "      <th>License #</th>\n",
       "      <th>Risk</th>\n",
       "      <th>Zip</th>\n",
       "      <th>Latitude</th>\n",
       "      <th>Longitude</th>\n",
       "      <th>3.</th>\n",
       "      <th>10.</th>\n",
       "      <th>16.</th>\n",
       "      <th>35.</th>\n",
       "      <th>...</th>\n",
       "      <th>13.</th>\n",
       "      <th>7.</th>\n",
       "      <th>26.</th>\n",
       "      <th>42.</th>\n",
       "      <th>4.</th>\n",
       "      <th>17.</th>\n",
       "      <th>70.</th>\n",
       "      <th>27.</th>\n",
       "      <th>63.</th>\n",
       "      <th>One name</th>\n",
       "    </tr>\n",
       "  </thead>\n",
       "  <tbody>\n",
       "    <tr>\n",
       "      <th>count</th>\n",
       "      <td>1.896150e+05</td>\n",
       "      <td>1.896150e+05</td>\n",
       "      <td>189615.000000</td>\n",
       "      <td>189615.000000</td>\n",
       "      <td>189615.000000</td>\n",
       "      <td>189615.000000</td>\n",
       "      <td>189615.000000</td>\n",
       "      <td>189615.000000</td>\n",
       "      <td>189615.000000</td>\n",
       "      <td>189615.000000</td>\n",
       "      <td>...</td>\n",
       "      <td>189615.000000</td>\n",
       "      <td>189615.000000</td>\n",
       "      <td>189615.000000</td>\n",
       "      <td>189615.000000</td>\n",
       "      <td>189615.000000</td>\n",
       "      <td>189615.000000</td>\n",
       "      <td>189615.000000</td>\n",
       "      <td>189615.000000</td>\n",
       "      <td>189615.000000</td>\n",
       "      <td>189615.000000</td>\n",
       "    </tr>\n",
       "    <tr>\n",
       "      <th>mean</th>\n",
       "      <td>1.537623e+06</td>\n",
       "      <td>1.628240e+06</td>\n",
       "      <td>1.331593</td>\n",
       "      <td>60628.943201</td>\n",
       "      <td>41.880461</td>\n",
       "      <td>-87.676218</td>\n",
       "      <td>0.121246</td>\n",
       "      <td>0.050170</td>\n",
       "      <td>0.040039</td>\n",
       "      <td>0.333608</td>\n",
       "      <td>...</td>\n",
       "      <td>0.003739</td>\n",
       "      <td>0.000791</td>\n",
       "      <td>0.007462</td>\n",
       "      <td>0.033615</td>\n",
       "      <td>0.002753</td>\n",
       "      <td>0.000781</td>\n",
       "      <td>0.002869</td>\n",
       "      <td>0.002067</td>\n",
       "      <td>0.000105</td>\n",
       "      <td>0.740485</td>\n",
       "    </tr>\n",
       "    <tr>\n",
       "      <th>std</th>\n",
       "      <td>6.819335e+05</td>\n",
       "      <td>9.131641e+05</td>\n",
       "      <td>0.602145</td>\n",
       "      <td>43.396179</td>\n",
       "      <td>0.081018</td>\n",
       "      <td>0.059138</td>\n",
       "      <td>0.326413</td>\n",
       "      <td>0.218296</td>\n",
       "      <td>0.196051</td>\n",
       "      <td>0.471503</td>\n",
       "      <td>...</td>\n",
       "      <td>0.061034</td>\n",
       "      <td>0.028115</td>\n",
       "      <td>0.086063</td>\n",
       "      <td>0.180238</td>\n",
       "      <td>0.052396</td>\n",
       "      <td>0.027927</td>\n",
       "      <td>0.053486</td>\n",
       "      <td>0.045421</td>\n",
       "      <td>0.010270</td>\n",
       "      <td>0.438370</td>\n",
       "    </tr>\n",
       "    <tr>\n",
       "      <th>min</th>\n",
       "      <td>4.424700e+04</td>\n",
       "      <td>0.000000e+00</td>\n",
       "      <td>1.000000</td>\n",
       "      <td>46319.000000</td>\n",
       "      <td>41.644670</td>\n",
       "      <td>-87.914428</td>\n",
       "      <td>0.000000</td>\n",
       "      <td>0.000000</td>\n",
       "      <td>0.000000</td>\n",
       "      <td>0.000000</td>\n",
       "      <td>...</td>\n",
       "      <td>0.000000</td>\n",
       "      <td>0.000000</td>\n",
       "      <td>0.000000</td>\n",
       "      <td>0.000000</td>\n",
       "      <td>0.000000</td>\n",
       "      <td>0.000000</td>\n",
       "      <td>0.000000</td>\n",
       "      <td>0.000000</td>\n",
       "      <td>0.000000</td>\n",
       "      <td>0.000000</td>\n",
       "    </tr>\n",
       "    <tr>\n",
       "      <th>25%</th>\n",
       "      <td>1.174384e+06</td>\n",
       "      <td>1.228221e+06</td>\n",
       "      <td>1.000000</td>\n",
       "      <td>60614.000000</td>\n",
       "      <td>41.831192</td>\n",
       "      <td>-87.706935</td>\n",
       "      <td>0.000000</td>\n",
       "      <td>0.000000</td>\n",
       "      <td>0.000000</td>\n",
       "      <td>0.000000</td>\n",
       "      <td>...</td>\n",
       "      <td>0.000000</td>\n",
       "      <td>0.000000</td>\n",
       "      <td>0.000000</td>\n",
       "      <td>0.000000</td>\n",
       "      <td>0.000000</td>\n",
       "      <td>0.000000</td>\n",
       "      <td>0.000000</td>\n",
       "      <td>0.000000</td>\n",
       "      <td>0.000000</td>\n",
       "      <td>0.000000</td>\n",
       "    </tr>\n",
       "    <tr>\n",
       "      <th>50%</th>\n",
       "      <td>1.537753e+06</td>\n",
       "      <td>1.999082e+06</td>\n",
       "      <td>1.000000</td>\n",
       "      <td>60625.000000</td>\n",
       "      <td>41.891265</td>\n",
       "      <td>-87.665567</td>\n",
       "      <td>0.000000</td>\n",
       "      <td>0.000000</td>\n",
       "      <td>0.000000</td>\n",
       "      <td>0.000000</td>\n",
       "      <td>...</td>\n",
       "      <td>0.000000</td>\n",
       "      <td>0.000000</td>\n",
       "      <td>0.000000</td>\n",
       "      <td>0.000000</td>\n",
       "      <td>0.000000</td>\n",
       "      <td>0.000000</td>\n",
       "      <td>0.000000</td>\n",
       "      <td>0.000000</td>\n",
       "      <td>0.000000</td>\n",
       "      <td>1.000000</td>\n",
       "    </tr>\n",
       "    <tr>\n",
       "      <th>75%</th>\n",
       "      <td>2.136116e+06</td>\n",
       "      <td>2.283310e+06</td>\n",
       "      <td>2.000000</td>\n",
       "      <td>60643.000000</td>\n",
       "      <td>41.939473</td>\n",
       "      <td>-87.634599</td>\n",
       "      <td>0.000000</td>\n",
       "      <td>0.000000</td>\n",
       "      <td>0.000000</td>\n",
       "      <td>1.000000</td>\n",
       "      <td>...</td>\n",
       "      <td>0.000000</td>\n",
       "      <td>0.000000</td>\n",
       "      <td>0.000000</td>\n",
       "      <td>0.000000</td>\n",
       "      <td>0.000000</td>\n",
       "      <td>0.000000</td>\n",
       "      <td>0.000000</td>\n",
       "      <td>0.000000</td>\n",
       "      <td>0.000000</td>\n",
       "      <td>1.000000</td>\n",
       "    </tr>\n",
       "    <tr>\n",
       "      <th>max</th>\n",
       "      <td>2.521547e+06</td>\n",
       "      <td>8.700606e+06</td>\n",
       "      <td>3.000000</td>\n",
       "      <td>60827.000000</td>\n",
       "      <td>42.021064</td>\n",
       "      <td>-87.525094</td>\n",
       "      <td>1.000000</td>\n",
       "      <td>1.000000</td>\n",
       "      <td>1.000000</td>\n",
       "      <td>1.000000</td>\n",
       "      <td>...</td>\n",
       "      <td>1.000000</td>\n",
       "      <td>1.000000</td>\n",
       "      <td>1.000000</td>\n",
       "      <td>1.000000</td>\n",
       "      <td>1.000000</td>\n",
       "      <td>1.000000</td>\n",
       "      <td>1.000000</td>\n",
       "      <td>1.000000</td>\n",
       "      <td>1.000000</td>\n",
       "      <td>1.000000</td>\n",
       "    </tr>\n",
       "  </tbody>\n",
       "</table>\n",
       "<p>8 rows × 72 columns</p>\n",
       "</div>"
      ],
      "text/plain": [
       "       Inspection ID     License #           Risk            Zip  \\\n",
       "count   1.896150e+05  1.896150e+05  189615.000000  189615.000000   \n",
       "mean    1.537623e+06  1.628240e+06       1.331593   60628.943201   \n",
       "std     6.819335e+05  9.131641e+05       0.602145      43.396179   \n",
       "min     4.424700e+04  0.000000e+00       1.000000   46319.000000   \n",
       "25%     1.174384e+06  1.228221e+06       1.000000   60614.000000   \n",
       "50%     1.537753e+06  1.999082e+06       1.000000   60625.000000   \n",
       "75%     2.136116e+06  2.283310e+06       2.000000   60643.000000   \n",
       "max     2.521547e+06  8.700606e+06       3.000000   60827.000000   \n",
       "\n",
       "            Latitude      Longitude             3.            10.  \\\n",
       "count  189615.000000  189615.000000  189615.000000  189615.000000   \n",
       "mean       41.880461     -87.676218       0.121246       0.050170   \n",
       "std         0.081018       0.059138       0.326413       0.218296   \n",
       "min        41.644670     -87.914428       0.000000       0.000000   \n",
       "25%        41.831192     -87.706935       0.000000       0.000000   \n",
       "50%        41.891265     -87.665567       0.000000       0.000000   \n",
       "75%        41.939473     -87.634599       0.000000       0.000000   \n",
       "max        42.021064     -87.525094       1.000000       1.000000   \n",
       "\n",
       "                 16.            35.  ...            13.             7.  \\\n",
       "count  189615.000000  189615.000000  ...  189615.000000  189615.000000   \n",
       "mean        0.040039       0.333608  ...       0.003739       0.000791   \n",
       "std         0.196051       0.471503  ...       0.061034       0.028115   \n",
       "min         0.000000       0.000000  ...       0.000000       0.000000   \n",
       "25%         0.000000       0.000000  ...       0.000000       0.000000   \n",
       "50%         0.000000       0.000000  ...       0.000000       0.000000   \n",
       "75%         0.000000       1.000000  ...       0.000000       0.000000   \n",
       "max         1.000000       1.000000  ...       1.000000       1.000000   \n",
       "\n",
       "                 26.            42.             4.            17.  \\\n",
       "count  189615.000000  189615.000000  189615.000000  189615.000000   \n",
       "mean        0.007462       0.033615       0.002753       0.000781   \n",
       "std         0.086063       0.180238       0.052396       0.027927   \n",
       "min         0.000000       0.000000       0.000000       0.000000   \n",
       "25%         0.000000       0.000000       0.000000       0.000000   \n",
       "50%         0.000000       0.000000       0.000000       0.000000   \n",
       "75%         0.000000       0.000000       0.000000       0.000000   \n",
       "max         1.000000       1.000000       1.000000       1.000000   \n",
       "\n",
       "                 70.            27.            63.       One name  \n",
       "count  189615.000000  189615.000000  189615.000000  189615.000000  \n",
       "mean        0.002869       0.002067       0.000105       0.740485  \n",
       "std         0.053486       0.045421       0.010270       0.438370  \n",
       "min         0.000000       0.000000       0.000000       0.000000  \n",
       "25%         0.000000       0.000000       0.000000       0.000000  \n",
       "50%         0.000000       0.000000       0.000000       1.000000  \n",
       "75%         0.000000       0.000000       0.000000       1.000000  \n",
       "max         1.000000       1.000000       1.000000       1.000000  \n",
       "\n",
       "[8 rows x 72 columns]"
      ]
     },
     "execution_count": 52,
     "metadata": {},
     "output_type": "execute_result"
    }
   ],
   "source": [
    "data.describe()"
   ]
  },
  {
   "cell_type": "code",
   "execution_count": 53,
   "id": "ca69ebd4",
   "metadata": {},
   "outputs": [
    {
     "data": {
      "text/html": [
       "<div>\n",
       "<style scoped>\n",
       "    .dataframe tbody tr th:only-of-type {\n",
       "        vertical-align: middle;\n",
       "    }\n",
       "\n",
       "    .dataframe tbody tr th {\n",
       "        vertical-align: top;\n",
       "    }\n",
       "\n",
       "    .dataframe thead th {\n",
       "        text-align: right;\n",
       "    }\n",
       "</style>\n",
       "<table border=\"1\" class=\"dataframe\">\n",
       "  <thead>\n",
       "    <tr style=\"text-align: right;\">\n",
       "      <th></th>\n",
       "      <th>Inspection ID</th>\n",
       "      <th>License #</th>\n",
       "      <th>Risk</th>\n",
       "      <th>Zip</th>\n",
       "      <th>Latitude</th>\n",
       "      <th>Longitude</th>\n",
       "      <th>3.</th>\n",
       "      <th>10.</th>\n",
       "      <th>16.</th>\n",
       "      <th>35.</th>\n",
       "      <th>...</th>\n",
       "      <th>13.</th>\n",
       "      <th>7.</th>\n",
       "      <th>26.</th>\n",
       "      <th>42.</th>\n",
       "      <th>4.</th>\n",
       "      <th>17.</th>\n",
       "      <th>70.</th>\n",
       "      <th>27.</th>\n",
       "      <th>63.</th>\n",
       "      <th>One name</th>\n",
       "    </tr>\n",
       "  </thead>\n",
       "  <tbody>\n",
       "    <tr>\n",
       "      <th>Inspection ID</th>\n",
       "      <td>1.000000</td>\n",
       "      <td>0.244347</td>\n",
       "      <td>-0.076719</td>\n",
       "      <td>0.001698</td>\n",
       "      <td>0.047474</td>\n",
       "      <td>-0.009639</td>\n",
       "      <td>0.224459</td>\n",
       "      <td>0.234561</td>\n",
       "      <td>0.070749</td>\n",
       "      <td>-0.234148</td>\n",
       "      <td>...</td>\n",
       "      <td>-0.011788</td>\n",
       "      <td>0.002451</td>\n",
       "      <td>-0.040427</td>\n",
       "      <td>-0.049440</td>\n",
       "      <td>-0.052639</td>\n",
       "      <td>0.005790</td>\n",
       "      <td>-0.031889</td>\n",
       "      <td>-0.018003</td>\n",
       "      <td>0.011699</td>\n",
       "      <td>-0.045426</td>\n",
       "    </tr>\n",
       "    <tr>\n",
       "      <th>License #</th>\n",
       "      <td>0.244347</td>\n",
       "      <td>1.000000</td>\n",
       "      <td>0.079255</td>\n",
       "      <td>-0.012222</td>\n",
       "      <td>0.001744</td>\n",
       "      <td>0.037257</td>\n",
       "      <td>0.066873</td>\n",
       "      <td>0.034441</td>\n",
       "      <td>0.006716</td>\n",
       "      <td>-0.156320</td>\n",
       "      <td>...</td>\n",
       "      <td>-0.016071</td>\n",
       "      <td>-0.002476</td>\n",
       "      <td>-0.033117</td>\n",
       "      <td>-0.010009</td>\n",
       "      <td>-0.022432</td>\n",
       "      <td>0.003352</td>\n",
       "      <td>-0.002788</td>\n",
       "      <td>-0.015586</td>\n",
       "      <td>0.004692</td>\n",
       "      <td>-0.049009</td>\n",
       "    </tr>\n",
       "    <tr>\n",
       "      <th>Risk</th>\n",
       "      <td>-0.076719</td>\n",
       "      <td>0.079255</td>\n",
       "      <td>1.000000</td>\n",
       "      <td>-0.017326</td>\n",
       "      <td>-0.095899</td>\n",
       "      <td>-0.006002</td>\n",
       "      <td>-0.064380</td>\n",
       "      <td>-0.011693</td>\n",
       "      <td>-0.038083</td>\n",
       "      <td>-0.055608</td>\n",
       "      <td>...</td>\n",
       "      <td>0.006730</td>\n",
       "      <td>-0.002099</td>\n",
       "      <td>0.012598</td>\n",
       "      <td>-0.032537</td>\n",
       "      <td>-0.011048</td>\n",
       "      <td>-0.006296</td>\n",
       "      <td>0.020078</td>\n",
       "      <td>0.005402</td>\n",
       "      <td>-0.003097</td>\n",
       "      <td>-0.002037</td>\n",
       "    </tr>\n",
       "    <tr>\n",
       "      <th>Zip</th>\n",
       "      <td>0.001698</td>\n",
       "      <td>-0.012222</td>\n",
       "      <td>-0.017326</td>\n",
       "      <td>1.000000</td>\n",
       "      <td>0.076372</td>\n",
       "      <td>-0.172596</td>\n",
       "      <td>0.002781</td>\n",
       "      <td>0.000281</td>\n",
       "      <td>0.001467</td>\n",
       "      <td>0.011306</td>\n",
       "      <td>...</td>\n",
       "      <td>0.002515</td>\n",
       "      <td>-0.001498</td>\n",
       "      <td>-0.001047</td>\n",
       "      <td>-0.007995</td>\n",
       "      <td>-0.000342</td>\n",
       "      <td>-0.001330</td>\n",
       "      <td>0.003660</td>\n",
       "      <td>0.002845</td>\n",
       "      <td>-0.000448</td>\n",
       "      <td>-0.026459</td>\n",
       "    </tr>\n",
       "    <tr>\n",
       "      <th>Latitude</th>\n",
       "      <td>0.047474</td>\n",
       "      <td>0.001744</td>\n",
       "      <td>-0.095899</td>\n",
       "      <td>0.076372</td>\n",
       "      <td>1.000000</td>\n",
       "      <td>-0.424004</td>\n",
       "      <td>0.024511</td>\n",
       "      <td>-0.005949</td>\n",
       "      <td>0.055883</td>\n",
       "      <td>-0.047773</td>\n",
       "      <td>...</td>\n",
       "      <td>-0.003307</td>\n",
       "      <td>0.003378</td>\n",
       "      <td>-0.036773</td>\n",
       "      <td>0.020208</td>\n",
       "      <td>0.021835</td>\n",
       "      <td>-0.003660</td>\n",
       "      <td>0.004880</td>\n",
       "      <td>-0.018101</td>\n",
       "      <td>-0.001990</td>\n",
       "      <td>-0.126683</td>\n",
       "    </tr>\n",
       "    <tr>\n",
       "      <th>...</th>\n",
       "      <td>...</td>\n",
       "      <td>...</td>\n",
       "      <td>...</td>\n",
       "      <td>...</td>\n",
       "      <td>...</td>\n",
       "      <td>...</td>\n",
       "      <td>...</td>\n",
       "      <td>...</td>\n",
       "      <td>...</td>\n",
       "      <td>...</td>\n",
       "      <td>...</td>\n",
       "      <td>...</td>\n",
       "      <td>...</td>\n",
       "      <td>...</td>\n",
       "      <td>...</td>\n",
       "      <td>...</td>\n",
       "      <td>...</td>\n",
       "      <td>...</td>\n",
       "      <td>...</td>\n",
       "      <td>...</td>\n",
       "      <td>...</td>\n",
       "    </tr>\n",
       "    <tr>\n",
       "      <th>17.</th>\n",
       "      <td>0.005790</td>\n",
       "      <td>0.003352</td>\n",
       "      <td>-0.006296</td>\n",
       "      <td>-0.001330</td>\n",
       "      <td>-0.003660</td>\n",
       "      <td>0.002100</td>\n",
       "      <td>0.016810</td>\n",
       "      <td>0.000497</td>\n",
       "      <td>0.016447</td>\n",
       "      <td>0.009062</td>\n",
       "      <td>...</td>\n",
       "      <td>0.001382</td>\n",
       "      <td>0.005930</td>\n",
       "      <td>0.001965</td>\n",
       "      <td>0.014695</td>\n",
       "      <td>0.005740</td>\n",
       "      <td>1.000000</td>\n",
       "      <td>0.012624</td>\n",
       "      <td>0.002886</td>\n",
       "      <td>-0.000287</td>\n",
       "      <td>0.002330</td>\n",
       "    </tr>\n",
       "    <tr>\n",
       "      <th>70.</th>\n",
       "      <td>-0.031889</td>\n",
       "      <td>-0.002788</td>\n",
       "      <td>0.020078</td>\n",
       "      <td>0.003660</td>\n",
       "      <td>0.004880</td>\n",
       "      <td>-0.000077</td>\n",
       "      <td>-0.001196</td>\n",
       "      <td>-0.004197</td>\n",
       "      <td>0.012684</td>\n",
       "      <td>0.041933</td>\n",
       "      <td>...</td>\n",
       "      <td>0.027409</td>\n",
       "      <td>-0.001509</td>\n",
       "      <td>0.003369</td>\n",
       "      <td>0.006955</td>\n",
       "      <td>0.025410</td>\n",
       "      <td>0.012624</td>\n",
       "      <td>1.000000</td>\n",
       "      <td>0.030121</td>\n",
       "      <td>-0.000551</td>\n",
       "      <td>-0.000185</td>\n",
       "    </tr>\n",
       "    <tr>\n",
       "      <th>27.</th>\n",
       "      <td>-0.018003</td>\n",
       "      <td>-0.015586</td>\n",
       "      <td>0.005402</td>\n",
       "      <td>0.002845</td>\n",
       "      <td>-0.018101</td>\n",
       "      <td>0.002110</td>\n",
       "      <td>-0.006591</td>\n",
       "      <td>-0.009397</td>\n",
       "      <td>0.003734</td>\n",
       "      <td>0.025420</td>\n",
       "      <td>...</td>\n",
       "      <td>0.010528</td>\n",
       "      <td>0.011109</td>\n",
       "      <td>0.037877</td>\n",
       "      <td>0.003107</td>\n",
       "      <td>-0.000175</td>\n",
       "      <td>0.002886</td>\n",
       "      <td>0.030121</td>\n",
       "      <td>1.000000</td>\n",
       "      <td>-0.000467</td>\n",
       "      <td>0.004696</td>\n",
       "    </tr>\n",
       "    <tr>\n",
       "      <th>63.</th>\n",
       "      <td>0.011699</td>\n",
       "      <td>0.004692</td>\n",
       "      <td>-0.003097</td>\n",
       "      <td>-0.000448</td>\n",
       "      <td>-0.001990</td>\n",
       "      <td>0.002074</td>\n",
       "      <td>0.010344</td>\n",
       "      <td>0.004697</td>\n",
       "      <td>0.003141</td>\n",
       "      <td>-0.007267</td>\n",
       "      <td>...</td>\n",
       "      <td>-0.000629</td>\n",
       "      <td>-0.000289</td>\n",
       "      <td>-0.000891</td>\n",
       "      <td>-0.001916</td>\n",
       "      <td>-0.000540</td>\n",
       "      <td>-0.000287</td>\n",
       "      <td>-0.000551</td>\n",
       "      <td>-0.000467</td>\n",
       "      <td>1.000000</td>\n",
       "      <td>0.000223</td>\n",
       "    </tr>\n",
       "    <tr>\n",
       "      <th>One name</th>\n",
       "      <td>-0.045426</td>\n",
       "      <td>-0.049009</td>\n",
       "      <td>-0.002037</td>\n",
       "      <td>-0.026459</td>\n",
       "      <td>-0.126683</td>\n",
       "      <td>0.128066</td>\n",
       "      <td>-0.001870</td>\n",
       "      <td>0.000208</td>\n",
       "      <td>-0.001581</td>\n",
       "      <td>0.016258</td>\n",
       "      <td>...</td>\n",
       "      <td>0.005913</td>\n",
       "      <td>-0.002171</td>\n",
       "      <td>0.006600</td>\n",
       "      <td>0.006418</td>\n",
       "      <td>0.002403</td>\n",
       "      <td>0.002330</td>\n",
       "      <td>-0.000185</td>\n",
       "      <td>0.004696</td>\n",
       "      <td>0.000223</td>\n",
       "      <td>1.000000</td>\n",
       "    </tr>\n",
       "  </tbody>\n",
       "</table>\n",
       "<p>72 rows × 72 columns</p>\n",
       "</div>"
      ],
      "text/plain": [
       "               Inspection ID  License #      Risk       Zip  Latitude  \\\n",
       "Inspection ID       1.000000   0.244347 -0.076719  0.001698  0.047474   \n",
       "License #           0.244347   1.000000  0.079255 -0.012222  0.001744   \n",
       "Risk               -0.076719   0.079255  1.000000 -0.017326 -0.095899   \n",
       "Zip                 0.001698  -0.012222 -0.017326  1.000000  0.076372   \n",
       "Latitude            0.047474   0.001744 -0.095899  0.076372  1.000000   \n",
       "...                      ...        ...       ...       ...       ...   \n",
       "17.                 0.005790   0.003352 -0.006296 -0.001330 -0.003660   \n",
       "70.                -0.031889  -0.002788  0.020078  0.003660  0.004880   \n",
       "27.                -0.018003  -0.015586  0.005402  0.002845 -0.018101   \n",
       "63.                 0.011699   0.004692 -0.003097 -0.000448 -0.001990   \n",
       "One name           -0.045426  -0.049009 -0.002037 -0.026459 -0.126683   \n",
       "\n",
       "               Longitude        3.       10.       16.       35.  ...  \\\n",
       "Inspection ID  -0.009639  0.224459  0.234561  0.070749 -0.234148  ...   \n",
       "License #       0.037257  0.066873  0.034441  0.006716 -0.156320  ...   \n",
       "Risk           -0.006002 -0.064380 -0.011693 -0.038083 -0.055608  ...   \n",
       "Zip            -0.172596  0.002781  0.000281  0.001467  0.011306  ...   \n",
       "Latitude       -0.424004  0.024511 -0.005949  0.055883 -0.047773  ...   \n",
       "...                  ...       ...       ...       ...       ...  ...   \n",
       "17.             0.002100  0.016810  0.000497  0.016447  0.009062  ...   \n",
       "70.            -0.000077 -0.001196 -0.004197  0.012684  0.041933  ...   \n",
       "27.             0.002110 -0.006591 -0.009397  0.003734  0.025420  ...   \n",
       "63.             0.002074  0.010344  0.004697  0.003141 -0.007267  ...   \n",
       "One name        0.128066 -0.001870  0.000208 -0.001581  0.016258  ...   \n",
       "\n",
       "                    13.        7.       26.       42.        4.       17.  \\\n",
       "Inspection ID -0.011788  0.002451 -0.040427 -0.049440 -0.052639  0.005790   \n",
       "License #     -0.016071 -0.002476 -0.033117 -0.010009 -0.022432  0.003352   \n",
       "Risk           0.006730 -0.002099  0.012598 -0.032537 -0.011048 -0.006296   \n",
       "Zip            0.002515 -0.001498 -0.001047 -0.007995 -0.000342 -0.001330   \n",
       "Latitude      -0.003307  0.003378 -0.036773  0.020208  0.021835 -0.003660   \n",
       "...                 ...       ...       ...       ...       ...       ...   \n",
       "17.            0.001382  0.005930  0.001965  0.014695  0.005740  1.000000   \n",
       "70.            0.027409 -0.001509  0.003369  0.006955  0.025410  0.012624   \n",
       "27.            0.010528  0.011109  0.037877  0.003107 -0.000175  0.002886   \n",
       "63.           -0.000629 -0.000289 -0.000891 -0.001916 -0.000540 -0.000287   \n",
       "One name       0.005913 -0.002171  0.006600  0.006418  0.002403  0.002330   \n",
       "\n",
       "                    70.       27.       63.  One name  \n",
       "Inspection ID -0.031889 -0.018003  0.011699 -0.045426  \n",
       "License #     -0.002788 -0.015586  0.004692 -0.049009  \n",
       "Risk           0.020078  0.005402 -0.003097 -0.002037  \n",
       "Zip            0.003660  0.002845 -0.000448 -0.026459  \n",
       "Latitude       0.004880 -0.018101 -0.001990 -0.126683  \n",
       "...                 ...       ...       ...       ...  \n",
       "17.            0.012624  0.002886 -0.000287  0.002330  \n",
       "70.            1.000000  0.030121 -0.000551 -0.000185  \n",
       "27.            0.030121  1.000000 -0.000467  0.004696  \n",
       "63.           -0.000551 -0.000467  1.000000  0.000223  \n",
       "One name      -0.000185  0.004696  0.000223  1.000000  \n",
       "\n",
       "[72 rows x 72 columns]"
      ]
     },
     "execution_count": 53,
     "metadata": {},
     "output_type": "execute_result"
    }
   ],
   "source": [
    "corr_mat = data.corr()\n",
    "corr_mat"
   ]
  },
  {
   "cell_type": "markdown",
   "id": "b7038383",
   "metadata": {},
   "source": [
    "Посмотрим более-менее значимые корреляции"
   ]
  },
  {
   "cell_type": "code",
   "execution_count": 54,
   "id": "fb7080cd",
   "metadata": {},
   "outputs": [
    {
     "data": {
      "text/plain": [
       "3.   5.     0.571411\n",
       "55.  49.    0.509995\n",
       "58.  5.     0.508970\n",
       "dtype: float64"
      ]
     },
     "execution_count": 54,
     "metadata": {},
     "output_type": "execute_result"
    }
   ],
   "source": [
    "corr_mat.where(np.triu(corr_mat > 0.5, k=1)).stack().sort_values(ascending=False)"
   ]
  },
  {
   "cell_type": "markdown",
   "id": "f9a77692",
   "metadata": {},
   "source": [
    "Значит, некоторые пары нарушений совместно встречаются чаще"
   ]
  },
  {
   "cell_type": "code",
   "execution_count": 55,
   "id": "8334d01a",
   "metadata": {},
   "outputs": [
    {
     "data": {
      "text/plain": [
       "Latitude  Longitude   -0.424004\n",
       "dtype: float64"
      ]
     },
     "execution_count": 55,
     "metadata": {},
     "output_type": "execute_result"
    }
   ],
   "source": [
    "corr_mat.where(np.triu(corr_mat < -0.3, k=1)).stack().sort_values(ascending=False)"
   ]
  },
  {
   "cell_type": "markdown",
   "id": "145ec999",
   "metadata": {},
   "source": [
    "Вероятно, долгота убывает при росте широты, поскольку город ориентирован не строго с севера на юг, а слегка на юго-восток."
   ]
  },
  {
   "cell_type": "code",
   "execution_count": 56,
   "id": "d9ec712d",
   "metadata": {
    "scrolled": false
   },
   "outputs": [
    {
     "data": {
      "image/png": "[encoded data removed]",
      "text/plain": [
       "<Figure size 1440x1440 with 2 Axes>"
      ]
     },
     "metadata": {
      "needs_background": "light"
     },
     "output_type": "display_data"
    }
   ],
   "source": [
    "plt.figure(figsize = (20, 20))\n",
    "sns.heatmap(corr_mat, square=True, cmap='coolwarm')\n",
    "pass"
   ]
  },
  {
   "cell_type": "markdown",
   "id": "db9b51b7",
   "metadata": {},
   "source": [
    "## Окончательная подготовка данных"
   ]
  },
  {
   "cell_type": "code",
   "execution_count": 57,
   "id": "2dde7dd4",
   "metadata": {},
   "outputs": [
    {
     "data": {
      "text/plain": [
       "0         1615766400000000000\n",
       "11        1606435200000000000\n",
       "12        1604534400000000000\n",
       "15        1603324800000000000\n",
       "16        1603152000000000000\n",
       "                 ...         \n",
       "221462    1268092800000000000\n",
       "221464    1266537600000000000\n",
       "221465    1263254400000000000\n",
       "221466    1268179200000000000\n",
       "221467    1264982400000000000\n",
       "Name: Inspection Date, Length: 189615, dtype: int64"
      ]
     },
     "execution_count": 57,
     "metadata": {},
     "output_type": "execute_result"
    }
   ],
   "source": [
    "data['Inspection Date'] = pd.to_datetime(data['Inspection Date']).astype(np.int64)\n",
    "data['Inspection Date']"
   ]
  },
  {
   "cell_type": "code",
   "execution_count": 58,
   "id": "86fc9037",
   "metadata": {},
   "outputs": [
    {
     "name": "stdout",
     "output_type": "stream",
     "text": [
      "['DBA Name', 'AKA Name', 'Address', 'City', 'State']\n",
      "['Inspection ID', 'License #', 'Facility Type', 'Risk', 'Zip', 'Inspection Date', 'Inspection Type', 'Results', 'Latitude', 'Longitude', '3.', '10.', '16.', '35.', '36.', '37.', '47.', '53.', '55.', '56.', '57.', '58.', '60.', '2.', '5.', '38.', '48.', '51.', '52.', '49.', '50.', '15.', '21.', '22.', '23.', '39.', '64.', '62.', '33.', '40.', '41.', '45.', '1.', '8.', '25.', '43.', '54.', '44.', '61.', '14.', '9.', '29.', '32.', '20.', '34.', '6.', '46.', '59.', '28.', '11.', '12.', '18.', '30.', '31.', '19.', '24.', '13.', '7.', '26.', '42.', '4.', '17.', '70.', '27.', '63.', 'One name']\n"
     ]
    }
   ],
   "source": [
    "categorical_columns = [c for c in data.columns if data[c].dtype.name == 'object']\n",
    "numerical_columns   = [c for c in data.columns if data[c].dtype.name != 'object']\n",
    "print(categorical_columns)\n",
    "print(numerical_columns)"
   ]
  },
  {
   "cell_type": "code",
   "execution_count": null,
   "id": "a23fbfed",
   "metadata": {},
   "outputs": [],
   "source": []
  },
  {
   "cell_type": "code",
   "execution_count": 60,
   "id": "a7945636",
   "metadata": {},
   "outputs": [
    {
     "name": "stdout",
     "output_type": "stream",
     "text": [
      "DBA Name ['Kozminski' 'SUBWAY' 'DYETT HIGH SCHOOL' ... 'A1 GROCERY'\n",
      " 'COUSCOUS HOUSE' 'RIB PALACE']\n",
      "AKA Name ['Kozminski' 'SUBWAY' 'DYETT HIGH SCHOOL' ... 'A1 GROCERY'\n",
      " 'COUSCOUS HOUSE' 'COOKTEK PASTRY #1']\n",
      "Address ['936 E 54th St (5400S) ' '4406 S PULASKI RD ' '555 E 51st St(5100S) ' ...\n",
      " '2301 N Clark ST ' '1800 E 79TH ST BLDG ' '375 E 75TH ST ']\n",
      "City ['CHICAGO' 'NILES NILES' 'OAK PARK' 'Chicago' 'MAYWOOD' 'SCHAUMBURG'\n",
      " 'CALUMET CITY' 'BLOOMINGDALE' 'CICERO' 'chicago' 'SKOKIE' 'EVANSTON'\n",
      " 'BOLINGBROOK' 'LAKE ZURICH' 'WORTH' 'CHARLES A HAYES' 'ALSIP' 'CCHICAGO'\n",
      " 'CHicago' 'CHICAGOC' 'MORTON GROVE' '312CHICAGO' 'CHICAGOHICAGO'\n",
      " 'CHICAGOCHICAGO' 'BRIDGEVIEW' 'NEW HOLSTEIN' 'GRIFFITH' 'ELMHURST'\n",
      " 'CHICAGO.' 'ALGONQUIN' 'LANSING' 'WHEATON' 'WADSWORTH' 'ROSEMONT'\n",
      " 'PLAINFIELD' 'PALOS PARK' 'HIGHLAND PARK' 'ELK GROVE VILLAGE'\n",
      " 'LAKE BLUFF' 'SCHILLER PARK' 'Norridge' 'CHCHICAGO' 'COUNTRY CLUB HILLS'\n",
      " 'CHICAGO HEIGHTS' 'JUSTICE' 'SUMMIT' 'TINLEY PARK' 'EAST HAZEL CREST'\n",
      " 'LOMBARD' 'DES PLAINES' 'BERWYN' 'STREAMWOOD' 'CHICAGOI' 'OLYMPIA FIELDS'\n",
      " 'OAK LAWN' 'NAPERVILLE' 'GLENCOE' 'BLUE ISLAND' 'BROADVIEW' 'FRANKFORT'\n",
      " 'Maywood' 'EVERGREEN PARK' 'CHCICAGO']\n",
      "State ['IL' 'WI' 'IN']\n"
     ]
    }
   ],
   "source": [
    "for c in categorical_columns:\n",
    "    print(c, data[c].unique())"
   ]
  },
  {
   "cell_type": "markdown",
   "id": "c081ba59",
   "metadata": {},
   "source": [
    "Мы видели, что все точки находятся в пределах Чикаго. Поэтому столбцы *City*, *Address* и *State* проигнорируем. Собственно названия тоже не представляют какого-то интереса. Удалим все эти столбцы"
   ]
  },
  {
   "cell_type": "code",
   "execution_count": 61,
   "id": "93b78d8b",
   "metadata": {},
   "outputs": [],
   "source": [
    "for c in categorical_columns:\n",
    "    data = data.drop(c, axis=1)"
   ]
  },
  {
   "cell_type": "code",
   "execution_count": 62,
   "id": "63173966",
   "metadata": {},
   "outputs": [],
   "source": [
    "dummies = pd.get_dummies(data[['Facility Type', 'Inspection Type']])"
   ]
  },
  {
   "cell_type": "code",
   "execution_count": 63,
   "id": "25f93fa9",
   "metadata": {},
   "outputs": [
    {
     "data": {
      "text/html": [
       "<div>\n",
       "<style scoped>\n",
       "    .dataframe tbody tr th:only-of-type {\n",
       "        vertical-align: middle;\n",
       "    }\n",
       "\n",
       "    .dataframe tbody tr th {\n",
       "        vertical-align: top;\n",
       "    }\n",
       "\n",
       "    .dataframe thead th {\n",
       "        text-align: right;\n",
       "    }\n",
       "</style>\n",
       "<table border=\"1\" class=\"dataframe\">\n",
       "  <thead>\n",
       "    <tr style=\"text-align: right;\">\n",
       "      <th></th>\n",
       "      <th>Facility Type_(convenience store)</th>\n",
       "      <th>Facility Type_(gas station)</th>\n",
       "      <th>Facility Type_1005 nursing home</th>\n",
       "      <th>Facility Type_1023</th>\n",
       "      <th>Facility Type_1023 childern's service facility</th>\n",
       "      <th>Facility Type_1023 childern's service s facility</th>\n",
       "      <th>Facility Type_1023 childern's services facility</th>\n",
       "      <th>Facility Type_1023 children's services facility</th>\n",
       "      <th>Facility Type_1023-children's services facility</th>\n",
       "      <th>Facility Type_1475 liquor</th>\n",
       "      <th>...</th>\n",
       "      <th>Inspection Type_task force liquor inspection 1474</th>\n",
       "      <th>Inspection Type_task force night</th>\n",
       "      <th>Inspection Type_task force not ready</th>\n",
       "      <th>Inspection Type_task force package goods 1474</th>\n",
       "      <th>Inspection Type_task force package liquor</th>\n",
       "      <th>Inspection Type_task force(1470) liquor tavern</th>\n",
       "      <th>Inspection Type_taskforce</th>\n",
       "      <th>Inspection Type_taste of chicago</th>\n",
       "      <th>Inspection Type_tavern 1470</th>\n",
       "      <th>Inspection Type_two people ate and got sick.</th>\n",
       "    </tr>\n",
       "  </thead>\n",
       "  <tbody>\n",
       "    <tr>\n",
       "      <th>0</th>\n",
       "      <td>0</td>\n",
       "      <td>0</td>\n",
       "      <td>0</td>\n",
       "      <td>0</td>\n",
       "      <td>0</td>\n",
       "      <td>0</td>\n",
       "      <td>0</td>\n",
       "      <td>0</td>\n",
       "      <td>0</td>\n",
       "      <td>0</td>\n",
       "      <td>...</td>\n",
       "      <td>0</td>\n",
       "      <td>0</td>\n",
       "      <td>0</td>\n",
       "      <td>0</td>\n",
       "      <td>0</td>\n",
       "      <td>0</td>\n",
       "      <td>0</td>\n",
       "      <td>0</td>\n",
       "      <td>0</td>\n",
       "      <td>0</td>\n",
       "    </tr>\n",
       "    <tr>\n",
       "      <th>11</th>\n",
       "      <td>0</td>\n",
       "      <td>0</td>\n",
       "      <td>0</td>\n",
       "      <td>0</td>\n",
       "      <td>0</td>\n",
       "      <td>0</td>\n",
       "      <td>0</td>\n",
       "      <td>0</td>\n",
       "      <td>0</td>\n",
       "      <td>0</td>\n",
       "      <td>...</td>\n",
       "      <td>0</td>\n",
       "      <td>0</td>\n",
       "      <td>0</td>\n",
       "      <td>0</td>\n",
       "      <td>0</td>\n",
       "      <td>0</td>\n",
       "      <td>0</td>\n",
       "      <td>0</td>\n",
       "      <td>0</td>\n",
       "      <td>0</td>\n",
       "    </tr>\n",
       "    <tr>\n",
       "      <th>12</th>\n",
       "      <td>0</td>\n",
       "      <td>0</td>\n",
       "      <td>0</td>\n",
       "      <td>0</td>\n",
       "      <td>0</td>\n",
       "      <td>0</td>\n",
       "      <td>0</td>\n",
       "      <td>0</td>\n",
       "      <td>0</td>\n",
       "      <td>0</td>\n",
       "      <td>...</td>\n",
       "      <td>0</td>\n",
       "      <td>0</td>\n",
       "      <td>0</td>\n",
       "      <td>0</td>\n",
       "      <td>0</td>\n",
       "      <td>0</td>\n",
       "      <td>0</td>\n",
       "      <td>0</td>\n",
       "      <td>0</td>\n",
       "      <td>0</td>\n",
       "    </tr>\n",
       "    <tr>\n",
       "      <th>15</th>\n",
       "      <td>0</td>\n",
       "      <td>0</td>\n",
       "      <td>0</td>\n",
       "      <td>0</td>\n",
       "      <td>0</td>\n",
       "      <td>0</td>\n",
       "      <td>0</td>\n",
       "      <td>0</td>\n",
       "      <td>0</td>\n",
       "      <td>0</td>\n",
       "      <td>...</td>\n",
       "      <td>0</td>\n",
       "      <td>0</td>\n",
       "      <td>0</td>\n",
       "      <td>0</td>\n",
       "      <td>0</td>\n",
       "      <td>0</td>\n",
       "      <td>0</td>\n",
       "      <td>0</td>\n",
       "      <td>0</td>\n",
       "      <td>0</td>\n",
       "    </tr>\n",
       "    <tr>\n",
       "      <th>16</th>\n",
       "      <td>0</td>\n",
       "      <td>0</td>\n",
       "      <td>0</td>\n",
       "      <td>0</td>\n",
       "      <td>0</td>\n",
       "      <td>0</td>\n",
       "      <td>0</td>\n",
       "      <td>0</td>\n",
       "      <td>0</td>\n",
       "      <td>0</td>\n",
       "      <td>...</td>\n",
       "      <td>0</td>\n",
       "      <td>0</td>\n",
       "      <td>0</td>\n",
       "      <td>0</td>\n",
       "      <td>0</td>\n",
       "      <td>0</td>\n",
       "      <td>0</td>\n",
       "      <td>0</td>\n",
       "      <td>0</td>\n",
       "      <td>0</td>\n",
       "    </tr>\n",
       "  </tbody>\n",
       "</table>\n",
       "<p>5 rows × 530 columns</p>\n",
       "</div>"
      ],
      "text/plain": [
       "    Facility Type_(convenience store)  Facility Type_(gas station)  \\\n",
       "0                                   0                            0   \n",
       "11                                  0                            0   \n",
       "12                                  0                            0   \n",
       "15                                  0                            0   \n",
       "16                                  0                            0   \n",
       "\n",
       "    Facility Type_1005 nursing home  Facility Type_1023  \\\n",
       "0                                 0                   0   \n",
       "11                                0                   0   \n",
       "12                                0                   0   \n",
       "15                                0                   0   \n",
       "16                                0                   0   \n",
       "\n",
       "    Facility Type_1023 childern's service facility  \\\n",
       "0                                                0   \n",
       "11                                               0   \n",
       "12                                               0   \n",
       "15                                               0   \n",
       "16                                               0   \n",
       "\n",
       "    Facility Type_1023 childern's service s facility  \\\n",
       "0                                                  0   \n",
       "11                                                 0   \n",
       "12                                                 0   \n",
       "15                                                 0   \n",
       "16                                                 0   \n",
       "\n",
       "    Facility Type_1023 childern's services facility  \\\n",
       "0                                                 0   \n",
       "11                                                0   \n",
       "12                                                0   \n",
       "15                                                0   \n",
       "16                                                0   \n",
       "\n",
       "    Facility Type_1023 children's services facility  \\\n",
       "0                                                 0   \n",
       "11                                                0   \n",
       "12                                                0   \n",
       "15                                                0   \n",
       "16                                                0   \n",
       "\n",
       "    Facility Type_1023-children's services facility  \\\n",
       "0                                                 0   \n",
       "11                                                0   \n",
       "12                                                0   \n",
       "15                                                0   \n",
       "16                                                0   \n",
       "\n",
       "    Facility Type_1475 liquor  ...  \\\n",
       "0                           0  ...   \n",
       "11                          0  ...   \n",
       "12                          0  ...   \n",
       "15                          0  ...   \n",
       "16                          0  ...   \n",
       "\n",
       "    Inspection Type_task force liquor inspection 1474  \\\n",
       "0                                                   0   \n",
       "11                                                  0   \n",
       "12                                                  0   \n",
       "15                                                  0   \n",
       "16                                                  0   \n",
       "\n",
       "    Inspection Type_task force night  Inspection Type_task force not ready  \\\n",
       "0                                  0                                     0   \n",
       "11                                 0                                     0   \n",
       "12                                 0                                     0   \n",
       "15                                 0                                     0   \n",
       "16                                 0                                     0   \n",
       "\n",
       "    Inspection Type_task force package goods 1474  \\\n",
       "0                                               0   \n",
       "11                                              0   \n",
       "12                                              0   \n",
       "15                                              0   \n",
       "16                                              0   \n",
       "\n",
       "    Inspection Type_task force package liquor  \\\n",
       "0                                           0   \n",
       "11                                          0   \n",
       "12                                          0   \n",
       "15                                          0   \n",
       "16                                          0   \n",
       "\n",
       "    Inspection Type_task force(1470) liquor tavern  Inspection Type_taskforce  \\\n",
       "0                                                0                          0   \n",
       "11                                               0                          0   \n",
       "12                                               0                          0   \n",
       "15                                               0                          0   \n",
       "16                                               0                          0   \n",
       "\n",
       "    Inspection Type_taste of chicago  Inspection Type_tavern 1470  \\\n",
       "0                                  0                            0   \n",
       "11                                 0                            0   \n",
       "12                                 0                            0   \n",
       "15                                 0                            0   \n",
       "16                                 0                            0   \n",
       "\n",
       "    Inspection Type_two people ate and got sick.  \n",
       "0                                              0  \n",
       "11                                             0  \n",
       "12                                             0  \n",
       "15                                             0  \n",
       "16                                             0  \n",
       "\n",
       "[5 rows x 530 columns]"
      ]
     },
     "execution_count": 63,
     "metadata": {},
     "output_type": "execute_result"
    }
   ],
   "source": [
    "dummies.head()"
   ]
  },
  {
   "cell_type": "code",
   "execution_count": 64,
   "id": "b1c38c3a",
   "metadata": {},
   "outputs": [],
   "source": [
    "data = pd.concat((data, dummies), axis=1)\n",
    "data = data.drop(['Facility Type'], axis=1).drop(['Inspection Type'], axis=1)\n"
   ]
  },
  {
   "cell_type": "code",
   "execution_count": 65,
   "id": "22369ab6",
   "metadata": {},
   "outputs": [
    {
     "data": {
      "text/plain": [
       "(189615, 604)"
      ]
     },
     "execution_count": 65,
     "metadata": {},
     "output_type": "execute_result"
    }
   ],
   "source": [
    "data.shape"
   ]
  },
  {
   "cell_type": "markdown",
   "id": "5d935c8e",
   "metadata": {},
   "source": [
    "Количественных признаков практически нет в таком большом датафрейме. Те, что есть, не столь сильно влияют на результат по смыслу задачи. Поэтому нормализовывать их не будем."
   ]
  },
  {
   "cell_type": "markdown",
   "id": "b9b01a0b",
   "metadata": {},
   "source": [
    "# X и y"
   ]
  },
  {
   "cell_type": "code",
   "execution_count": 66,
   "id": "c4fe385d",
   "metadata": {},
   "outputs": [],
   "source": [
    "from sklearn.model_selection import train_test_split\n",
    "\n",
    "X = data.drop('Results', axis = 1).values\n",
    "y = data['Results'].values\n",
    "\n",
    "X_train, X_test, y_train, y_test = train_test_split(X, y, test_size=0.1, random_state=13)"
   ]
  },
  {
   "cell_type": "code",
   "execution_count": 67,
   "id": "9e898ad0",
   "metadata": {},
   "outputs": [
    {
     "name": "stdout",
     "output_type": "stream",
     "text": [
      "(170653, 603) (18962, 603)\n",
      "(170653,) (18962,)\n"
     ]
    }
   ],
   "source": [
    "print(X_train.shape, X_test.shape)\n",
    "print(y_train.shape, y_test.shape)"
   ]
  },
  {
   "cell_type": "markdown",
   "id": "51df647b",
   "metadata": {},
   "source": [
    "## Классификатор ближайших соседей"
   ]
  },
  {
   "cell_type": "code",
   "execution_count": 68,
   "id": "7445828f",
   "metadata": {},
   "outputs": [
    {
     "data": {
      "text/plain": [
       "KNeighborsClassifier(n_neighbors=10)"
      ]
     },
     "execution_count": 68,
     "metadata": {},
     "output_type": "execute_result"
    }
   ],
   "source": [
    "from sklearn.neighbors import KNeighborsClassifier\n",
    "\n",
    "knn = KNeighborsClassifier(n_neighbors = 10)\n",
    "#knn.set_params(n_neighbors=10)\n",
    "knn.fit(X_train, y_train)"
   ]
  },
  {
   "cell_type": "code",
   "execution_count": 69,
   "id": "f7beb3e9",
   "metadata": {},
   "outputs": [],
   "source": [
    "err_test = 1 - knn.score(X_test, y_test) # Другой способ"
   ]
  },
  {
   "cell_type": "markdown",
   "id": "9381d503",
   "metadata": {},
   "source": [
    "Доля ошибочных классификаций на тестовой выборке"
   ]
  },
  {
   "cell_type": "code",
   "execution_count": 70,
   "id": "248aa916",
   "metadata": {},
   "outputs": [
    {
     "data": {
      "text/plain": [
       "0.40275287416939143"
      ]
     },
     "execution_count": 70,
     "metadata": {},
     "output_type": "execute_result"
    }
   ],
   "source": [
    "err_test"
   ]
  },
  {
   "cell_type": "code",
   "execution_count": 71,
   "id": "07fbe5cf",
   "metadata": {},
   "outputs": [
    {
     "data": {
      "text/plain": [
       "0.37786098512815103"
      ]
     },
     "execution_count": 71,
     "metadata": {},
     "output_type": "execute_result"
    }
   ],
   "source": [
    "knn = KNeighborsClassifier(n_neighbors = 20)\n",
    "knn.fit(X_train, y_train)\n",
    "err_test = 1 - knn.score(X_test, y_test)\n",
    "err_test"
   ]
  },
  {
   "cell_type": "code",
   "execution_count": 72,
   "id": "744779be",
   "metadata": {},
   "outputs": [
    {
     "data": {
      "text/plain": [
       "0.369317582533488"
      ]
     },
     "execution_count": 72,
     "metadata": {},
     "output_type": "execute_result"
    }
   ],
   "source": [
    "knn = KNeighborsClassifier(n_neighbors = 40)\n",
    "knn.fit(X_train, y_train)\n",
    "err_test = 1 - knn.score(X_test, y_test)\n",
    "err_test"
   ]
  },
  {
   "cell_type": "code",
   "execution_count": 73,
   "id": "c80b6499",
   "metadata": {},
   "outputs": [
    {
     "data": {
      "text/plain": [
       "0.4406180782617868"
      ]
     },
     "execution_count": 73,
     "metadata": {},
     "output_type": "execute_result"
    }
   ],
   "source": [
    "knn = KNeighborsClassifier(n_neighbors = 5)\n",
    "knn.fit(X_train, y_train)\n",
    "err_test = 1 - knn.score(X_test, y_test)\n",
    "err_test"
   ]
  },
  {
   "cell_type": "code",
   "execution_count": 74,
   "id": "965efe78",
   "metadata": {},
   "outputs": [
    {
     "data": {
      "text/plain": [
       "0.3657841999789052"
      ]
     },
     "execution_count": 74,
     "metadata": {},
     "output_type": "execute_result"
    }
   ],
   "source": [
    "knn = KNeighborsClassifier(n_neighbors = 100)\n",
    "knn.fit(X_train, y_train)\n",
    "err_test = 1 - knn.score(X_test, y_test)\n",
    "err_test"
   ]
  },
  {
   "cell_type": "code",
   "execution_count": 75,
   "id": "8f90aab1",
   "metadata": {},
   "outputs": [
    {
     "data": {
      "text/plain": [
       "0.3649404071300496"
      ]
     },
     "execution_count": 75,
     "metadata": {},
     "output_type": "execute_result"
    }
   ],
   "source": [
    "knn = KNeighborsClassifier(n_neighbors = 1000)\n",
    "knn.fit(X_train, y_train)\n",
    "err_test = 1 - knn.score(X_test, y_test)\n",
    "err_test"
   ]
  },
  {
   "cell_type": "markdown",
   "id": "016e8c23",
   "metadata": {},
   "source": [
    "Доля ошибочных классификаций на учебной выборке"
   ]
  },
  {
   "cell_type": "code",
   "execution_count": 76,
   "id": "da616b3d",
   "metadata": {},
   "outputs": [
    {
     "data": {
      "text/plain": [
       "0.3632986235225868"
      ]
     },
     "execution_count": 76,
     "metadata": {},
     "output_type": "execute_result"
    }
   ],
   "source": [
    "knn = KNeighborsClassifier(n_neighbors = 1000)\n",
    "knn.fit(X_train, y_train)\n",
    "err_train = 1 - knn.score(X_train, y_train)\n",
    "err_train"
   ]
  },
  {
   "cell_type": "markdown",
   "id": "13be03f7",
   "metadata": {},
   "source": [
    "Код с использованием GridSearchCV не закончил работу за 12 часов, поэтому решено было поустанвливать количество соседей вручную. При увеличении n_neighbors уменьшается доля ошибки, но скорость этого уменьшения экспоненциально падает. Далее увеличивать количество соседей не вижу смысла. Большая ошибка обусловлена малым количеством разнородных признаков, большим количеством опечаток и вольности в написании одинаковых типов. Возможно, также повлияли отсутствующие нарушения в тех проверках, где нарушения в реальности были. Допускаю, что нормализация может улучшить результаты."
   ]
  },
  {
   "cell_type": "markdown",
   "id": "d257ad64",
   "metadata": {},
   "source": [
    "Для большей точности нужно перебирать варианты: с нормализацией/без, со всеми исходными типами/с исправленными и сокращёнными до минимальных количеств, со всеми пустыми Violations/без пустых Violations для непрошедших проверку."
   ]
  },
  {
   "cell_type": "code",
   "execution_count": null,
   "id": "700ea48b",
   "metadata": {},
   "outputs": [],
   "source": []
  },
  {
   "cell_type": "code",
   "execution_count": null,
   "id": "c7509522",
   "metadata": {},
   "outputs": [],
   "source": []
  }
 ],
 "metadata": {
  "kernelspec": {
   "display_name": "Python 3",
   "language": "python",
   "name": "python3"
  },
  "language_info": {
   "codemirror_mode": {
    "name": "ipython",
    "version": 3
   },
   "file_extension": ".py",
   "mimetype": "text/x-python",
   "name": "python",
   "nbconvert_exporter": "python",
   "pygments_lexer": "ipython3",
   "version": "3.8.8"
  }
 },
 "nbformat": 4,
 "nbformat_minor": 5
}
